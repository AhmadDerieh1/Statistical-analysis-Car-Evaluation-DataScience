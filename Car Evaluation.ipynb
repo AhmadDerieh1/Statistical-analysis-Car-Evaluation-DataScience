{
 "cells": [
  {
   "cell_type": "code",
   "execution_count": 11,
   "id": "8b65e5c8",
   "metadata": {},
   "outputs": [],
   "source": [
    "#load libraries\n",
    "import numpy as np\n",
    "import pandas as pd\n",
    "import matplotlib.pyplot as plt\n",
    "import seaborn as sns"
   ]
  },
  {
   "cell_type": "code",
   "execution_count": 14,
   "id": "0f0f7758",
   "metadata": {},
   "outputs": [],
   "source": [
    "#read txt file \n",
    "data = pd.read_csv(\"car.txt\", delimiter=',')"
   ]
  },
  {
   "cell_type": "code",
   "execution_count": 15,
   "id": "54af2471",
   "metadata": {},
   "outputs": [],
   "source": [
    "# rename the columns names\n",
    "data.rename(columns = {'vhigh':'buying'}, inplace = True)\n",
    "data.rename(columns = {'vhigh.1':'maint'}, inplace = True)\n",
    "data.rename(columns = {'2':'doors'}, inplace = True)\n",
    "data.rename(columns = {'2.1':'persons'}, inplace = True)\n",
    "data.rename(columns = {'small':'lug_boot'}, inplace = True)\n",
    "data.rename(columns = {'low':'safety'}, inplace = True)\n",
    "data.rename(columns = {'unacc':'class'}, inplace = True)"
   ]
  },
  {
   "cell_type": "code",
   "execution_count": 16,
   "id": "3141593e",
   "metadata": {},
   "outputs": [
    {
     "data": {
      "text/plain": [
       "Index(['buying', 'maint', 'doors', 'persons', 'lug_boot', 'safety', 'class'], dtype='object')"
      ]
     },
     "execution_count": 16,
     "metadata": {},
     "output_type": "execute_result"
    }
   ],
   "source": [
    "# columns names\n",
    "data.columns"
   ]
  },
  {
   "cell_type": "code",
   "execution_count": 17,
   "id": "3903dfff",
   "metadata": {},
   "outputs": [
    {
     "data": {
      "text/html": [
       "<div>\n",
       "<style scoped>\n",
       "    .dataframe tbody tr th:only-of-type {\n",
       "        vertical-align: middle;\n",
       "    }\n",
       "\n",
       "    .dataframe tbody tr th {\n",
       "        vertical-align: top;\n",
       "    }\n",
       "\n",
       "    .dataframe thead th {\n",
       "        text-align: right;\n",
       "    }\n",
       "</style>\n",
       "<table border=\"1\" class=\"dataframe\">\n",
       "  <thead>\n",
       "    <tr style=\"text-align: right;\">\n",
       "      <th></th>\n",
       "      <th>buying</th>\n",
       "      <th>maint</th>\n",
       "      <th>doors</th>\n",
       "      <th>persons</th>\n",
       "      <th>lug_boot</th>\n",
       "      <th>safety</th>\n",
       "      <th>class</th>\n",
       "    </tr>\n",
       "  </thead>\n",
       "  <tbody>\n",
       "    <tr>\n",
       "      <th>0</th>\n",
       "      <td>vhigh</td>\n",
       "      <td>vhigh</td>\n",
       "      <td>2</td>\n",
       "      <td>2</td>\n",
       "      <td>small</td>\n",
       "      <td>med</td>\n",
       "      <td>unacc</td>\n",
       "    </tr>\n",
       "    <tr>\n",
       "      <th>1</th>\n",
       "      <td>vhigh</td>\n",
       "      <td>vhigh</td>\n",
       "      <td>2</td>\n",
       "      <td>2</td>\n",
       "      <td>small</td>\n",
       "      <td>high</td>\n",
       "      <td>unacc</td>\n",
       "    </tr>\n",
       "    <tr>\n",
       "      <th>2</th>\n",
       "      <td>vhigh</td>\n",
       "      <td>vhigh</td>\n",
       "      <td>2</td>\n",
       "      <td>2</td>\n",
       "      <td>med</td>\n",
       "      <td>low</td>\n",
       "      <td>unacc</td>\n",
       "    </tr>\n",
       "    <tr>\n",
       "      <th>3</th>\n",
       "      <td>vhigh</td>\n",
       "      <td>vhigh</td>\n",
       "      <td>2</td>\n",
       "      <td>2</td>\n",
       "      <td>med</td>\n",
       "      <td>med</td>\n",
       "      <td>unacc</td>\n",
       "    </tr>\n",
       "    <tr>\n",
       "      <th>4</th>\n",
       "      <td>vhigh</td>\n",
       "      <td>vhigh</td>\n",
       "      <td>2</td>\n",
       "      <td>2</td>\n",
       "      <td>med</td>\n",
       "      <td>high</td>\n",
       "      <td>unacc</td>\n",
       "    </tr>\n",
       "  </tbody>\n",
       "</table>\n",
       "</div>"
      ],
      "text/plain": [
       "  buying  maint doors persons lug_boot safety  class\n",
       "0  vhigh  vhigh     2       2    small    med  unacc\n",
       "1  vhigh  vhigh     2       2    small   high  unacc\n",
       "2  vhigh  vhigh     2       2      med    low  unacc\n",
       "3  vhigh  vhigh     2       2      med    med  unacc\n",
       "4  vhigh  vhigh     2       2      med   high  unacc"
      ]
     },
     "execution_count": 17,
     "metadata": {},
     "output_type": "execute_result"
    }
   ],
   "source": [
    "data.head(5)"
   ]
  },
  {
   "cell_type": "code",
   "execution_count": 20,
   "id": "173aa449",
   "metadata": {},
   "outputs": [
    {
     "data": {
      "text/plain": [
       "buying      object\n",
       "maint       object\n",
       "doors       object\n",
       "persons     object\n",
       "lug_boot    object\n",
       "safety      object\n",
       "class       object\n",
       "dtype: object"
      ]
     },
     "execution_count": 20,
     "metadata": {},
     "output_type": "execute_result"
    }
   ],
   "source": [
    "#types\n",
    "data.dtypes"
   ]
  },
  {
   "cell_type": "code",
   "execution_count": 192,
   "id": "804188f2",
   "metadata": {},
   "outputs": [
    {
     "data": {
      "text/plain": [
       "buying      0\n",
       "maint       0\n",
       "doors       0\n",
       "persons     0\n",
       "lug_boot    0\n",
       "safety      0\n",
       "class       0\n",
       "dtype: int64"
      ]
     },
     "execution_count": 192,
     "metadata": {},
     "output_type": "execute_result"
    }
   ],
   "source": [
    "#The sum of missing values\n",
    "data.isna().sum()\n",
    "#Missing Attribute Values: none"
   ]
  },
  {
   "cell_type": "code",
   "execution_count": 23,
   "id": "73e74e48",
   "metadata": {},
   "outputs": [
    {
     "name": "stdout",
     "output_type": "stream",
     "text": [
      "['vhigh' 'high' 'med' 'low']\n",
      "['vhigh' 'high' 'med' 'low']\n",
      "['2' '3' '4' '5more']\n",
      "['2' '4' 'more']\n",
      "['small' 'med' 'big']\n",
      "['med' 'high' 'low']\n",
      "['unacc' 'acc' 'vgood' 'good']\n"
     ]
    }
   ],
   "source": [
    "#unique value for each columns\n",
    "print(data[\"buying\"].unique())\n",
    "print(data[\"maint\"].unique())\n",
    "print(data[\"doors\"].unique())\n",
    "print(data[\"persons\"].unique())\n",
    "print(data[\"lug_boot\"].unique())\n",
    "print(data[\"safety\"].unique())\n",
    "print(data[\"class\"].unique())"
   ]
  },
  {
   "cell_type": "code",
   "execution_count": 28,
   "id": "fe0c8c72",
   "metadata": {},
   "outputs": [
    {
     "data": {
      "text/html": [
       "<div>\n",
       "<style scoped>\n",
       "    .dataframe tbody tr th:only-of-type {\n",
       "        vertical-align: middle;\n",
       "    }\n",
       "\n",
       "    .dataframe tbody tr th {\n",
       "        vertical-align: top;\n",
       "    }\n",
       "\n",
       "    .dataframe thead th {\n",
       "        text-align: right;\n",
       "    }\n",
       "</style>\n",
       "<table border=\"1\" class=\"dataframe\">\n",
       "  <thead>\n",
       "    <tr style=\"text-align: right;\">\n",
       "      <th></th>\n",
       "      <th>buying</th>\n",
       "      <th>maint</th>\n",
       "      <th>doors</th>\n",
       "      <th>persons</th>\n",
       "      <th>lug_boot</th>\n",
       "      <th>safety</th>\n",
       "      <th>class</th>\n",
       "    </tr>\n",
       "  </thead>\n",
       "  <tbody>\n",
       "    <tr>\n",
       "      <th>count</th>\n",
       "      <td>1727</td>\n",
       "      <td>1727</td>\n",
       "      <td>1727</td>\n",
       "      <td>1727</td>\n",
       "      <td>1727</td>\n",
       "      <td>1727</td>\n",
       "      <td>1727</td>\n",
       "    </tr>\n",
       "    <tr>\n",
       "      <th>unique</th>\n",
       "      <td>4</td>\n",
       "      <td>4</td>\n",
       "      <td>4</td>\n",
       "      <td>3</td>\n",
       "      <td>3</td>\n",
       "      <td>3</td>\n",
       "      <td>4</td>\n",
       "    </tr>\n",
       "    <tr>\n",
       "      <th>top</th>\n",
       "      <td>high</td>\n",
       "      <td>high</td>\n",
       "      <td>3</td>\n",
       "      <td>4</td>\n",
       "      <td>med</td>\n",
       "      <td>med</td>\n",
       "      <td>unacc</td>\n",
       "    </tr>\n",
       "    <tr>\n",
       "      <th>freq</th>\n",
       "      <td>432</td>\n",
       "      <td>432</td>\n",
       "      <td>432</td>\n",
       "      <td>576</td>\n",
       "      <td>576</td>\n",
       "      <td>576</td>\n",
       "      <td>1209</td>\n",
       "    </tr>\n",
       "  </tbody>\n",
       "</table>\n",
       "</div>"
      ],
      "text/plain": [
       "       buying maint doors persons lug_boot safety  class\n",
       "count    1727  1727  1727    1727     1727   1727   1727\n",
       "unique      4     4     4       3        3      3      4\n",
       "top      high  high     3       4      med    med  unacc\n",
       "freq      432   432   432     576      576    576   1209"
      ]
     },
     "execution_count": 28,
     "metadata": {},
     "output_type": "execute_result"
    }
   ],
   "source": [
    "#show statistical data\n",
    "data.describe()"
   ]
  },
  {
   "cell_type": "code",
   "execution_count": 29,
   "id": "63a78711",
   "metadata": {},
   "outputs": [
    {
     "data": {
      "text/plain": [
       "0"
      ]
     },
     "execution_count": 29,
     "metadata": {},
     "output_type": "execute_result"
    }
   ],
   "source": [
    "#count duplicated\n",
    "data.duplicated().sum() "
   ]
  },
  {
   "cell_type": "code",
   "execution_count": 30,
   "id": "c99d84ca",
   "metadata": {},
   "outputs": [
    {
     "name": "stdout",
     "output_type": "stream",
     "text": [
      "high     432\n",
      "med      432\n",
      "low      432\n",
      "vhigh    431\n",
      "Name: buying, dtype: int64\n"
     ]
    },
    {
     "data": {
      "image/png": "[encoded data removed]",
      "text/plain": [
       "<Figure size 432x288 with 1 Axes>"
      ]
     },
     "metadata": {
      "needs_background": "light"
     },
     "output_type": "display_data"
    }
   ],
   "source": [
    "print(data[\"buying\"].value_counts())\n",
    "data[\"buying\"].value_counts().plot.bar()\n",
    "plt.show()"
   ]
  },
  {
   "cell_type": "code",
   "execution_count": 59,
   "id": "f63eb036",
   "metadata": {},
   "outputs": [
    {
     "name": "stdout",
     "output_type": "stream",
     "text": [
      "high     432\n",
      "med      432\n",
      "low      432\n",
      "vhigh    431\n",
      "Name: maint, dtype: int64\n"
     ]
    },
    {
     "data": {
      "image/png": "[encoded data removed]",
      "text/plain": [
       "<Figure size 432x288 with 1 Axes>"
      ]
     },
     "metadata": {
      "needs_background": "light"
     },
     "output_type": "display_data"
    }
   ],
   "source": [
    "print(data[\"maint\"].value_counts())\n",
    "data[\"maint\"].value_counts().plot.bar()\n",
    "plt.show()"
   ]
  },
  {
   "cell_type": "code",
   "execution_count": 60,
   "id": "8d6135bf",
   "metadata": {},
   "outputs": [
    {
     "name": "stdout",
     "output_type": "stream",
     "text": [
      "med      576\n",
      "big      576\n",
      "small    575\n",
      "Name: lug_boot, dtype: int64\n"
     ]
    },
    {
     "data": {
      "image/png": "[encoded data removed]",
      "text/plain": [
       "<Figure size 432x288 with 1 Axes>"
      ]
     },
     "metadata": {
      "needs_background": "light"
     },
     "output_type": "display_data"
    }
   ],
   "source": [
    "print(data[\"lug_boot\"].value_counts())\n",
    "data[\"lug_boot\"].value_counts().plot.bar()\n",
    "plt.show()"
   ]
  },
  {
   "cell_type": "code",
   "execution_count": 66,
   "id": "aded7d8c",
   "metadata": {},
   "outputs": [
    {
     "name": "stdout",
     "output_type": "stream",
     "text": [
      "med     576\n",
      "high    576\n",
      "low     575\n",
      "Name: safety, dtype: int64\n"
     ]
    },
    {
     "data": {
      "image/png": "[encoded data removed]",
      "text/plain": [
       "<Figure size 432x288 with 1 Axes>"
      ]
     },
     "metadata": {
      "needs_background": "light"
     },
     "output_type": "display_data"
    }
   ],
   "source": [
    "print(data[\"safety\"].value_counts())\n",
    "data[\"safety\"].value_counts().plot.bar()\n",
    "plt.show()"
   ]
  },
  {
   "cell_type": "code",
   "execution_count": null,
   "id": "bac7d989",
   "metadata": {},
   "outputs": [],
   "source": [
    "# all features  are balance"
   ]
  },
  {
   "cell_type": "code",
   "execution_count": 187,
   "id": "66350cf4",
   "metadata": {},
   "outputs": [],
   "source": [
    "def relationship(data,colunm_name,target):\n",
    "    plt.figure(figsize=(8,5))\n",
    "    plt.title('The relationship between ' + colunm_name +' and class')\n",
    "    print(data.groupby([colunm_name, target]).size())\n",
    "    data.groupby([colunm_name, target]).size().plot.bar()\n",
    "    plt.show() "
   ]
  },
  {
   "cell_type": "code",
   "execution_count": 188,
   "id": "d0a3cc06",
   "metadata": {},
   "outputs": [
    {
     "name": "stdout",
     "output_type": "stream",
     "text": [
      "buying  class\n",
      "high    acc      108\n",
      "        unacc    324\n",
      "low     acc       89\n",
      "        good      46\n",
      "        unacc    258\n",
      "        vgood     39\n",
      "med     acc      115\n",
      "        good      23\n",
      "        unacc    268\n",
      "        vgood     26\n",
      "vhigh   acc       72\n",
      "        unacc    359\n",
      "dtype: int64\n"
     ]
    },
    {
     "data": {
      "image/png": "[encoded data removed]",
      "text/plain": [
       "<Figure size 576x360 with 1 Axes>"
      ]
     },
     "metadata": {
      "needs_background": "light"
     },
     "output_type": "display_data"
    }
   ],
   "source": [
    "relationship(data,'buying','class')"
   ]
  },
  {
   "cell_type": "raw",
   "id": "1eddc8f5",
   "metadata": {},
   "source": [
    "number of buying a car with high price and is acceptable is 108.                                                               \n",
    "number of buying a car with high price and is unacceptable is 324.                                                    \n",
    "------------------------------------------------------------------\n",
    "number of buying a car with low price and is acceptabl e is 89.\n",
    "number of buying a car with low price and is good e is 46.\n",
    "number of buying a car with low price and is unacceptabl e is 258.\n",
    "number of buying a car with low price and is vgood e is 39.                                                                     \n",
    "------------------------------------------------------------------\n",
    "number of buying a car with med price and is acceptable is 115\n",
    "number of buying a car with med price and is good is 23\n",
    "number of buying a car with med price and is unacceptable is 268\n",
    "number of buying a car with med price and is vgood is 26\n",
    "-------------------------------------------------------------------\n",
    "number of buying a car with vhigh price and is acceptable is 72\n",
    "number of buying a car with vhigh price and is unacceptable is 359"
   ]
  },
  {
   "cell_type": "code",
   "execution_count": 189,
   "id": "2c4de962",
   "metadata": {},
   "outputs": [
    {
     "name": "stdout",
     "output_type": "stream",
     "text": [
      "maint  class\n",
      "high   acc      105\n",
      "       unacc    314\n",
      "       vgood     13\n",
      "low    acc       92\n",
      "       good      46\n",
      "       unacc    268\n",
      "       vgood     26\n",
      "med    acc      115\n",
      "       good      23\n",
      "       unacc    268\n",
      "       vgood     26\n",
      "vhigh  acc       72\n",
      "       unacc    359\n",
      "dtype: int64\n"
     ]
    },
    {
     "data": {
      "image/png": "[encoded data removed]",
      "text/plain": [
       "<Figure size 576x360 with 1 Axes>"
      ]
     },
     "metadata": {
      "needs_background": "light"
     },
     "output_type": "display_data"
    }
   ],
   "source": [
    "relationship(data,'maint','class')"
   ]
  },
  {
   "cell_type": "raw",
   "id": "9b4fe0ff",
   "metadata": {},
   "source": [
    "number of maint a car with high maint and is acceptable is 105.                                                               \n",
    "number of maint a car with high maint and is unacceptable is 314. \n",
    "number of maint a car with high maint and is vgood is 13\n",
    "------------------------------------------------------------------\n",
    "number of maint a car with low maint and is acceptabl e is 92.\n",
    "number of maint a car with low maint and is good e is 46.\n",
    "number of maint a car with low maint and is unacceptabl e is 268.\n",
    "number of maint a car with low maint and is vgood e is 26.                                                                     \n",
    "------------------------------------------------------------------\n",
    "number of maint a car with med maint and is acceptable is 115\n",
    "number of maint a car with med maint and is good is 23\n",
    "number of maint a car with med maint and is unacceptable is 268\n",
    "number of maint a car with med maint and is vgood is 26\n",
    "-------------------------------------------------------------------\n",
    "number of maint a car with vhigh price and is acceptable is 72\n",
    "number of maint a car with vhigh price and is unacceptable is 359"
   ]
  },
  {
   "cell_type": "code",
   "execution_count": 190,
   "id": "5eb0a768",
   "metadata": {
    "scrolled": false
   },
   "outputs": [
    {
     "name": "stdout",
     "output_type": "stream",
     "text": [
      "lug_boot  class\n",
      "big       acc      144\n",
      "          good      24\n",
      "          unacc    368\n",
      "          vgood     40\n",
      "med       acc      135\n",
      "          good      24\n",
      "          unacc    392\n",
      "          vgood     25\n",
      "small     acc      105\n",
      "          good      21\n",
      "          unacc    449\n",
      "dtype: int64\n"
     ]
    },
    {
     "data": {
      "image/png": "[encoded data removed]",
      "text/plain": [
       "<Figure size 576x360 with 1 Axes>"
      ]
     },
     "metadata": {
      "needs_background": "light"
     },
     "output_type": "display_data"
    }
   ],
   "source": [
    "relationship(data,'lug_boot','class')"
   ]
  },
  {
   "cell_type": "raw",
   "id": "91f7f60b",
   "metadata": {},
   "source": [
    "number of luggage boot a car with big luggage boot and is acceptable is 114.   \n",
    "number of luggage boot a car with big luggage boot and is good is 24. \n",
    "number of luggage boot a car with big luggage boot and is unacceptable is 368. \n",
    "number of luggage boot a car with big luggage boote and is vgood is 40.\n",
    "------------------------------------------------------------------\n",
    "number of luggage boot a car with med luggage boot and is acceptabl e is 135.\n",
    "number of luggage boot a car with med luggage boot and is good e is 24.\n",
    "number of luggage boot a car with med luggage boot and is unacceptabl e is 392.\n",
    "number of luggage boot a car with med luggage boot and is vgood e is 25.                                                         \n",
    "------------------------------------------------------------------\n",
    "number of luggage boot a car with small luggage boot and is acceptable is 115\n",
    "number of luggage boot a car with small luggage boot and is good is 23\n",
    "number of luggage boot a car with big luggage boot and is unacceptable is 268"
   ]
  },
  {
   "cell_type": "code",
   "execution_count": 191,
   "id": "4269e737",
   "metadata": {},
   "outputs": [
    {
     "name": "stdout",
     "output_type": "stream",
     "text": [
      "safety  class\n",
      "high    acc      204\n",
      "        good      30\n",
      "        unacc    277\n",
      "        vgood     65\n",
      "low     unacc    575\n",
      "med     acc      180\n",
      "        good      39\n",
      "        unacc    357\n",
      "dtype: int64\n"
     ]
    },
    {
     "data": {
      "image/png": "[encoded data removed]",
      "text/plain": [
       "<Figure size 576x360 with 1 Axes>"
      ]
     },
     "metadata": {
      "needs_background": "light"
     },
     "output_type": "display_data"
    }
   ],
   "source": [
    "relationship(data,'safety','class')"
   ]
  },
  {
   "cell_type": "raw",
   "id": "e25f1911",
   "metadata": {},
   "source": [
    "number of safety a car with high safety and is acceptable is 204.   \n",
    "number of safety a car with high safety and is good is 30. \n",
    "number of safety a car with high safety and is unacceptable is 277. \n",
    "number of safety a car with high safety and is vgood is 65.\n",
    "------------------------------------------------------------------\n",
    "number of safety a car with low safety and is unacceptable is 575\n",
    "------------------------------------------------------------------\n",
    "number of safety a car with med safety and is acceptabl e is 180.\n",
    "number of safety a car with med safety and is good e is 39.\n",
    "number of safety a car with med safety and is unacceptabl e is 357."
   ]
  },
  {
   "cell_type": "code",
   "execution_count": 177,
   "id": "2e7b0bc8",
   "metadata": {},
   "outputs": [],
   "source": [
    "def twoway_table_relative(data,colunm_name,target):\n",
    "    twowaytable=pd.crosstab(df[target],df[colunm_name],margins=True)\n",
    "    \"\"\"\n",
    "    builds a cross-tabulation table that can show the \n",
    "    frequency with which certain groups of data appear.\n",
    "    \"\"\"\n",
    "    print(twowaytable)\n",
    "    relative_table = round(twowaytable/twowaytable.loc[\"All\"], 2)\n",
    "    \"\"\"\n",
    "    a relative frequency table that tells frequencies instead of counts.\n",
    "    \"\"\"\n",
    "    print(\"___\"*13)\n",
    "    print(relative_table)\n",
    "    relative_table.plot.bar()    \n",
    "    plt.show()"
   ]
  },
  {
   "cell_type": "code",
   "execution_count": 178,
   "id": "daac4f8d",
   "metadata": {},
   "outputs": [
    {
     "name": "stdout",
     "output_type": "stream",
     "text": [
      "buying  high  low  med  vhigh   All\n",
      "class                              \n",
      "acc      108   89  115     72   384\n",
      "good       0   46   23      0    69\n",
      "unacc    324  258  268    359  1209\n",
      "vgood      0   39   26      0    65\n",
      "All      432  432  432    431  1727\n",
      "_______________________________________\n",
      "buying  high   low   med  vhigh   All\n",
      "class                                \n",
      "acc     0.25  0.21  0.27   0.17  0.22\n",
      "good    0.00  0.11  0.05   0.00  0.04\n",
      "unacc   0.75  0.60  0.62   0.83  0.70\n",
      "vgood   0.00  0.09  0.06   0.00  0.04\n",
      "All     1.00  1.00  1.00   1.00  1.00\n"
     ]
    },
    {
     "data": {
      "image/png": "[encoded data removed]",
      "text/plain": [
       "<Figure size 432x288 with 1 Axes>"
      ]
     },
     "metadata": {
      "needs_background": "light"
     },
     "output_type": "display_data"
    }
   ],
   "source": [
    "twoway_table_relative(data,'buying','class')"
   ]
  },
  {
   "cell_type": "raw",
   "id": "3db4850b",
   "metadata": {},
   "source": [
    "25% of cars with a high buying price was acceptable.\n",
    "75% of cars with a high buying price was unacceptable.\n",
    "______________________________________________________\n",
    "21% of cars with a low  buying price was acceptable.\n",
    "11% of cars with a low  buying price was good.\n",
    "60% of cars with a low  buying price was acceptable.\n",
    "9% of cars with a low  buying price was very good.\n",
    "_______________________________________________________\n",
    "27% of cars with a med buying price was acceptable.\n",
    "5% of cars with a med  buying price was good.\n",
    "62% of cars with a med  buying price was acceptable.\n",
    "6% of cars with a med  buying price was very good.\n",
    "___________________________________________________\n",
    "17% of cars with a very high buying price was acceptable.\n",
    "83% of cars with a very high buying price was unacceptable."
   ]
  },
  {
   "cell_type": "code",
   "execution_count": 179,
   "id": "f8c23623",
   "metadata": {
    "scrolled": false
   },
   "outputs": [
    {
     "name": "stdout",
     "output_type": "stream",
     "text": [
      "maint  high  low  med  vhigh   All\n",
      "class                             \n",
      "acc     105   92  115     72   384\n",
      "good      0   46   23      0    69\n",
      "unacc   314  268  268    359  1209\n",
      "vgood    13   26   26      0    65\n",
      "All     432  432  432    431  1727\n",
      "_______________________________________\n",
      "maint  high   low   med  vhigh   All\n",
      "class                               \n",
      "acc    0.24  0.21  0.27   0.17  0.22\n",
      "good   0.00  0.11  0.05   0.00  0.04\n",
      "unacc  0.73  0.62  0.62   0.83  0.70\n",
      "vgood  0.03  0.06  0.06   0.00  0.04\n",
      "All    1.00  1.00  1.00   1.00  1.00\n"
     ]
    },
    {
     "data": {
      "image/png": "[encoded data removed]",
      "text/plain": [
       "<Figure size 432x288 with 1 Axes>"
      ]
     },
     "metadata": {
      "needs_background": "light"
     },
     "output_type": "display_data"
    }
   ],
   "source": [
    "twoway_table_relative(data,'maint','class')"
   ]
  },
  {
   "cell_type": "raw",
   "id": "778c5ae6",
   "metadata": {},
   "source": [
    "24% of cars with a high maint price was acceptable.\n",
    "73% of cars with a high  maint price was unacceptable.\n",
    "3% of cars with a high  maint price was very good.\n",
    "______________________________________________________\n",
    "21% of cars with a low maint price was acceptable.\n",
    "11% of cars with a low  maint price was good.\n",
    "62% of cars with a low  maint price was acceptable.\n",
    "6% of cars with a low  maint price was very good.\n",
    "_______________________________________________________\n",
    "27% of cars with a med maint price was acceptable.\n",
    "5% of cars with a med maint price was good.\n",
    "62% of cars with a med maint price was acceptable.\n",
    "6% of cars with a med maint price was very good.\n",
    "___________________________________________________\n",
    "17% of cars with a very high maint price was acceptable.\n",
    "83% of cars with a very high maint price was unacceptable."
   ]
  },
  {
   "cell_type": "code",
   "execution_count": 180,
   "id": "e748aafc",
   "metadata": {},
   "outputs": [
    {
     "name": "stdout",
     "output_type": "stream",
     "text": [
      "lug_boot  big  med  small   All\n",
      "class                          \n",
      "acc       144  135    105   384\n",
      "good       24   24     21    69\n",
      "unacc     368  392    449  1209\n",
      "vgood      40   25      0    65\n",
      "All       576  576    575  1727\n",
      "_______________________________________\n",
      "lug_boot   big   med  small   All\n",
      "class                            \n",
      "acc       0.25  0.23   0.18  0.22\n",
      "good      0.04  0.04   0.04  0.04\n",
      "unacc     0.64  0.68   0.78  0.70\n",
      "vgood     0.07  0.04   0.00  0.04\n",
      "All       1.00  1.00   1.00  1.00\n"
     ]
    },
    {
     "data": {
      "image/png": "[encoded data removed]",
      "text/plain": [
       "<Figure size 432x288 with 1 Axes>"
      ]
     },
     "metadata": {
      "needs_background": "light"
     },
     "output_type": "display_data"
    }
   ],
   "source": [
    "twoway_table_relative(data,'lug_boot','class')"
   ]
  },
  {
   "cell_type": "code",
   "execution_count": null,
   "id": "fb3c3b75",
   "metadata": {},
   "outputs": [],
   "source": [
    "25% of cars with a big luggage boot  was acceptable.\n",
    "4% of cars with a big luggage boot was  good.\n",
    "64% of cars with a med  maint price was unacceptable.\n",
    "7% of cars with a big luggage boot was very good.\n",
    "______________________________________________________\n",
    "23% of cars with a med luggage boot acceptable.\n",
    "4% of cars with a med luggage boot was good.\n",
    "68% of cars with a med luggage boot was unacceptable.\n",
    "4% of cars with a med luggage boot was very good.\n",
    "_______________________________________________________\n",
    "18% of cars with a small luggage boot was acceptable.\n",
    "4% of cars with a small luggage boot was good.\n",
    "78% of cars with a small luggage boot was acceptable."
   ]
  },
  {
   "cell_type": "code",
   "execution_count": 181,
   "id": "8ec08fb3",
   "metadata": {},
   "outputs": [
    {
     "name": "stdout",
     "output_type": "stream",
     "text": [
      "safety  high  low  med   All\n",
      "class                       \n",
      "acc      204    0  180   384\n",
      "good      30    0   39    69\n",
      "unacc    277  575  357  1209\n",
      "vgood     65    0    0    65\n",
      "All      576  575  576  1727\n",
      "_______________________________________\n",
      "safety  high  low   med   All\n",
      "class                        \n",
      "acc     0.35  0.0  0.31  0.22\n",
      "good    0.05  0.0  0.07  0.04\n",
      "unacc   0.48  1.0  0.62  0.70\n",
      "vgood   0.11  0.0  0.00  0.04\n",
      "All     1.00  1.0  1.00  1.00\n"
     ]
    },
    {
     "data": {
      "image/png": "[encoded data removed]",
      "text/plain": [
       "<Figure size 432x288 with 1 Axes>"
      ]
     },
     "metadata": {
      "needs_background": "light"
     },
     "output_type": "display_data"
    }
   ],
   "source": [
    "twoway_table_relative(data,'safety','class')"
   ]
  },
  {
   "cell_type": "code",
   "execution_count": null,
   "id": "c6f44419",
   "metadata": {},
   "outputs": [],
   "source": [
    "35% of cars with a big safety was acceptable.\n",
    "5% of cars with a big safety was  good.\n",
    "48% of cars with a med safety was unacceptable.\n",
    "11% of cars with a big safety was very good.\n",
    "______________________________________________________\n",
    "100% of cars with a med safety was unacceptable.\n",
    "_______________________________________________________\n",
    "31% of cars with a small safety was acceptable.\n",
    "7% of cars with a small safety was good.\n",
    "62% of cars with a small safety was unacceptable."
   ]
  }
 ],
 "metadata": {
  "kernelspec": {
   "display_name": "Python 3 (ipykernel)",
   "language": "python",
   "name": "python3"
  },
  "language_info": {
   "codemirror_mode": {
    "name": "ipython",
    "version": 3
   },
   "file_extension": ".py",
   "mimetype": "text/x-python",
   "name": "python",
   "nbconvert_exporter": "python",
   "pygments_lexer": "ipython3",
   "version": "3.9.7"
  }
 },
 "nbformat": 4,
 "nbformat_minor": 5
}
