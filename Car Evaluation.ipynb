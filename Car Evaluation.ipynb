{
 "cells": [
  {
   "cell_type": "code",
   "execution_count": 101,
   "id": "8b65e5c8",
   "metadata": {},
   "outputs": [],
   "source": [
    "#load libraries\n",
    "import numpy as np\n",
    "import pandas as pd\n",
    "import matplotlib.pyplot as plt\n",
    "import seaborn as sns"
   ]
  },
  {
   "cell_type": "code",
   "execution_count": 102,
   "id": "0f0f7758",
   "metadata": {},
   "outputs": [],
   "source": [
    "#read txt file \n",
    "data = pd.read_csv(\"car.txt\", delimiter=',')"
   ]
  },
  {
   "cell_type": "code",
   "execution_count": 103,
   "id": "826cc9dc",
   "metadata": {
    "scrolled": false
   },
   "outputs": [
    {
     "data": {
      "text/html": [
       "<div>\n",
       "<style scoped>\n",
       "    .dataframe tbody tr th:only-of-type {\n",
       "        vertical-align: middle;\n",
       "    }\n",
       "\n",
       "    .dataframe tbody tr th {\n",
       "        vertical-align: top;\n",
       "    }\n",
       "\n",
       "    .dataframe thead th {\n",
       "        text-align: right;\n",
       "    }\n",
       "</style>\n",
       "<table border=\"1\" class=\"dataframe\">\n",
       "  <thead>\n",
       "    <tr style=\"text-align: right;\">\n",
       "      <th></th>\n",
       "      <th>vhigh</th>\n",
       "      <th>vhigh.1</th>\n",
       "      <th>2</th>\n",
       "      <th>2.1</th>\n",
       "      <th>small</th>\n",
       "      <th>low</th>\n",
       "      <th>unacc</th>\n",
       "    </tr>\n",
       "  </thead>\n",
       "  <tbody>\n",
       "    <tr>\n",
       "      <th>0</th>\n",
       "      <td>vhigh</td>\n",
       "      <td>vhigh</td>\n",
       "      <td>2</td>\n",
       "      <td>2</td>\n",
       "      <td>small</td>\n",
       "      <td>med</td>\n",
       "      <td>unacc</td>\n",
       "    </tr>\n",
       "    <tr>\n",
       "      <th>1</th>\n",
       "      <td>vhigh</td>\n",
       "      <td>vhigh</td>\n",
       "      <td>2</td>\n",
       "      <td>2</td>\n",
       "      <td>small</td>\n",
       "      <td>high</td>\n",
       "      <td>unacc</td>\n",
       "    </tr>\n",
       "    <tr>\n",
       "      <th>2</th>\n",
       "      <td>vhigh</td>\n",
       "      <td>vhigh</td>\n",
       "      <td>2</td>\n",
       "      <td>2</td>\n",
       "      <td>med</td>\n",
       "      <td>low</td>\n",
       "      <td>unacc</td>\n",
       "    </tr>\n",
       "    <tr>\n",
       "      <th>3</th>\n",
       "      <td>vhigh</td>\n",
       "      <td>vhigh</td>\n",
       "      <td>2</td>\n",
       "      <td>2</td>\n",
       "      <td>med</td>\n",
       "      <td>med</td>\n",
       "      <td>unacc</td>\n",
       "    </tr>\n",
       "    <tr>\n",
       "      <th>4</th>\n",
       "      <td>vhigh</td>\n",
       "      <td>vhigh</td>\n",
       "      <td>2</td>\n",
       "      <td>2</td>\n",
       "      <td>med</td>\n",
       "      <td>high</td>\n",
       "      <td>unacc</td>\n",
       "    </tr>\n",
       "    <tr>\n",
       "      <th>...</th>\n",
       "      <td>...</td>\n",
       "      <td>...</td>\n",
       "      <td>...</td>\n",
       "      <td>...</td>\n",
       "      <td>...</td>\n",
       "      <td>...</td>\n",
       "      <td>...</td>\n",
       "    </tr>\n",
       "    <tr>\n",
       "      <th>1722</th>\n",
       "      <td>low</td>\n",
       "      <td>low</td>\n",
       "      <td>5more</td>\n",
       "      <td>more</td>\n",
       "      <td>med</td>\n",
       "      <td>med</td>\n",
       "      <td>good</td>\n",
       "    </tr>\n",
       "    <tr>\n",
       "      <th>1723</th>\n",
       "      <td>low</td>\n",
       "      <td>low</td>\n",
       "      <td>5more</td>\n",
       "      <td>more</td>\n",
       "      <td>med</td>\n",
       "      <td>high</td>\n",
       "      <td>vgood</td>\n",
       "    </tr>\n",
       "    <tr>\n",
       "      <th>1724</th>\n",
       "      <td>low</td>\n",
       "      <td>low</td>\n",
       "      <td>5more</td>\n",
       "      <td>more</td>\n",
       "      <td>big</td>\n",
       "      <td>low</td>\n",
       "      <td>unacc</td>\n",
       "    </tr>\n",
       "    <tr>\n",
       "      <th>1725</th>\n",
       "      <td>low</td>\n",
       "      <td>low</td>\n",
       "      <td>5more</td>\n",
       "      <td>more</td>\n",
       "      <td>big</td>\n",
       "      <td>med</td>\n",
       "      <td>good</td>\n",
       "    </tr>\n",
       "    <tr>\n",
       "      <th>1726</th>\n",
       "      <td>low</td>\n",
       "      <td>low</td>\n",
       "      <td>5more</td>\n",
       "      <td>more</td>\n",
       "      <td>big</td>\n",
       "      <td>high</td>\n",
       "      <td>vgood</td>\n",
       "    </tr>\n",
       "  </tbody>\n",
       "</table>\n",
       "<p>1727 rows × 7 columns</p>\n",
       "</div>"
      ],
      "text/plain": [
       "      vhigh vhigh.1      2   2.1  small   low  unacc\n",
       "0     vhigh   vhigh      2     2  small   med  unacc\n",
       "1     vhigh   vhigh      2     2  small  high  unacc\n",
       "2     vhigh   vhigh      2     2    med   low  unacc\n",
       "3     vhigh   vhigh      2     2    med   med  unacc\n",
       "4     vhigh   vhigh      2     2    med  high  unacc\n",
       "...     ...     ...    ...   ...    ...   ...    ...\n",
       "1722    low     low  5more  more    med   med   good\n",
       "1723    low     low  5more  more    med  high  vgood\n",
       "1724    low     low  5more  more    big   low  unacc\n",
       "1725    low     low  5more  more    big   med   good\n",
       "1726    low     low  5more  more    big  high  vgood\n",
       "\n",
       "[1727 rows x 7 columns]"
      ]
     },
     "execution_count": 103,
     "metadata": {},
     "output_type": "execute_result"
    }
   ],
   "source": [
    "data"
   ]
  },
  {
   "cell_type": "code",
   "execution_count": 104,
   "id": "bbaf61d3",
   "metadata": {},
   "outputs": [],
   "source": [
    "#add colunms names for data\n",
    "data.loc[len(data.index)] = ['vhigh', 'vhigh','2','2','small','low','unacc'] "
   ]
  },
  {
   "cell_type": "code",
   "execution_count": 105,
   "id": "54af2471",
   "metadata": {},
   "outputs": [],
   "source": [
    "# rename the columns names\n",
    "data.rename(columns = {'vhigh':'buying'}, inplace = True)\n",
    "data.rename(columns = {'vhigh.1':'maint'}, inplace = True)\n",
    "data.rename(columns = {'2':'doors'}, inplace = True)\n",
    "data.rename(columns = {'2.1':'persons'}, inplace = True)\n",
    "data.rename(columns = {'small':'lug_boot'}, inplace = True)\n",
    "data.rename(columns = {'low':'safety'}, inplace = True)\n",
    "data.rename(columns = {'unacc':'class'}, inplace = True)"
   ]
  },
  {
   "cell_type": "code",
   "execution_count": 106,
   "id": "3141593e",
   "metadata": {},
   "outputs": [
    {
     "data": {
      "text/plain": [
       "Index(['buying', 'maint', 'doors', 'persons', 'lug_boot', 'safety', 'class'], dtype='object')"
      ]
     },
     "execution_count": 106,
     "metadata": {},
     "output_type": "execute_result"
    }
   ],
   "source": [
    "# columns names\n",
    "data.columns"
   ]
  },
  {
   "cell_type": "code",
   "execution_count": 107,
   "id": "3903dfff",
   "metadata": {},
   "outputs": [
    {
     "data": {
      "text/html": [
       "<div>\n",
       "<style scoped>\n",
       "    .dataframe tbody tr th:only-of-type {\n",
       "        vertical-align: middle;\n",
       "    }\n",
       "\n",
       "    .dataframe tbody tr th {\n",
       "        vertical-align: top;\n",
       "    }\n",
       "\n",
       "    .dataframe thead th {\n",
       "        text-align: right;\n",
       "    }\n",
       "</style>\n",
       "<table border=\"1\" class=\"dataframe\">\n",
       "  <thead>\n",
       "    <tr style=\"text-align: right;\">\n",
       "      <th></th>\n",
       "      <th>buying</th>\n",
       "      <th>maint</th>\n",
       "      <th>doors</th>\n",
       "      <th>persons</th>\n",
       "      <th>lug_boot</th>\n",
       "      <th>safety</th>\n",
       "      <th>class</th>\n",
       "    </tr>\n",
       "  </thead>\n",
       "  <tbody>\n",
       "    <tr>\n",
       "      <th>0</th>\n",
       "      <td>vhigh</td>\n",
       "      <td>vhigh</td>\n",
       "      <td>2</td>\n",
       "      <td>2</td>\n",
       "      <td>small</td>\n",
       "      <td>med</td>\n",
       "      <td>unacc</td>\n",
       "    </tr>\n",
       "    <tr>\n",
       "      <th>1</th>\n",
       "      <td>vhigh</td>\n",
       "      <td>vhigh</td>\n",
       "      <td>2</td>\n",
       "      <td>2</td>\n",
       "      <td>small</td>\n",
       "      <td>high</td>\n",
       "      <td>unacc</td>\n",
       "    </tr>\n",
       "    <tr>\n",
       "      <th>2</th>\n",
       "      <td>vhigh</td>\n",
       "      <td>vhigh</td>\n",
       "      <td>2</td>\n",
       "      <td>2</td>\n",
       "      <td>med</td>\n",
       "      <td>low</td>\n",
       "      <td>unacc</td>\n",
       "    </tr>\n",
       "    <tr>\n",
       "      <th>3</th>\n",
       "      <td>vhigh</td>\n",
       "      <td>vhigh</td>\n",
       "      <td>2</td>\n",
       "      <td>2</td>\n",
       "      <td>med</td>\n",
       "      <td>med</td>\n",
       "      <td>unacc</td>\n",
       "    </tr>\n",
       "    <tr>\n",
       "      <th>4</th>\n",
       "      <td>vhigh</td>\n",
       "      <td>vhigh</td>\n",
       "      <td>2</td>\n",
       "      <td>2</td>\n",
       "      <td>med</td>\n",
       "      <td>high</td>\n",
       "      <td>unacc</td>\n",
       "    </tr>\n",
       "    <tr>\n",
       "      <th>...</th>\n",
       "      <td>...</td>\n",
       "      <td>...</td>\n",
       "      <td>...</td>\n",
       "      <td>...</td>\n",
       "      <td>...</td>\n",
       "      <td>...</td>\n",
       "      <td>...</td>\n",
       "    </tr>\n",
       "    <tr>\n",
       "      <th>1723</th>\n",
       "      <td>low</td>\n",
       "      <td>low</td>\n",
       "      <td>5more</td>\n",
       "      <td>more</td>\n",
       "      <td>med</td>\n",
       "      <td>high</td>\n",
       "      <td>vgood</td>\n",
       "    </tr>\n",
       "    <tr>\n",
       "      <th>1724</th>\n",
       "      <td>low</td>\n",
       "      <td>low</td>\n",
       "      <td>5more</td>\n",
       "      <td>more</td>\n",
       "      <td>big</td>\n",
       "      <td>low</td>\n",
       "      <td>unacc</td>\n",
       "    </tr>\n",
       "    <tr>\n",
       "      <th>1725</th>\n",
       "      <td>low</td>\n",
       "      <td>low</td>\n",
       "      <td>5more</td>\n",
       "      <td>more</td>\n",
       "      <td>big</td>\n",
       "      <td>med</td>\n",
       "      <td>good</td>\n",
       "    </tr>\n",
       "    <tr>\n",
       "      <th>1726</th>\n",
       "      <td>low</td>\n",
       "      <td>low</td>\n",
       "      <td>5more</td>\n",
       "      <td>more</td>\n",
       "      <td>big</td>\n",
       "      <td>high</td>\n",
       "      <td>vgood</td>\n",
       "    </tr>\n",
       "    <tr>\n",
       "      <th>1727</th>\n",
       "      <td>vhigh</td>\n",
       "      <td>vhigh</td>\n",
       "      <td>2</td>\n",
       "      <td>2</td>\n",
       "      <td>small</td>\n",
       "      <td>low</td>\n",
       "      <td>unacc</td>\n",
       "    </tr>\n",
       "  </tbody>\n",
       "</table>\n",
       "<p>1728 rows × 7 columns</p>\n",
       "</div>"
      ],
      "text/plain": [
       "     buying  maint  doors persons lug_boot safety  class\n",
       "0     vhigh  vhigh      2       2    small    med  unacc\n",
       "1     vhigh  vhigh      2       2    small   high  unacc\n",
       "2     vhigh  vhigh      2       2      med    low  unacc\n",
       "3     vhigh  vhigh      2       2      med    med  unacc\n",
       "4     vhigh  vhigh      2       2      med   high  unacc\n",
       "...     ...    ...    ...     ...      ...    ...    ...\n",
       "1723    low    low  5more    more      med   high  vgood\n",
       "1724    low    low  5more    more      big    low  unacc\n",
       "1725    low    low  5more    more      big    med   good\n",
       "1726    low    low  5more    more      big   high  vgood\n",
       "1727  vhigh  vhigh      2       2    small    low  unacc\n",
       "\n",
       "[1728 rows x 7 columns]"
      ]
     },
     "execution_count": 107,
     "metadata": {},
     "output_type": "execute_result"
    }
   ],
   "source": [
    "data"
   ]
  },
  {
   "cell_type": "code",
   "execution_count": 108,
   "id": "804188f2",
   "metadata": {},
   "outputs": [
    {
     "data": {
      "text/plain": [
       "buying      0\n",
       "maint       0\n",
       "doors       0\n",
       "persons     0\n",
       "lug_boot    0\n",
       "safety      0\n",
       "class       0\n",
       "dtype: int64"
      ]
     },
     "execution_count": 108,
     "metadata": {},
     "output_type": "execute_result"
    }
   ],
   "source": [
    "#The sum of missing values\n",
    "data.isna().sum()\n",
    "#Missing Attribute Values: none"
   ]
  },
  {
   "cell_type": "code",
   "execution_count": 109,
   "id": "73e74e48",
   "metadata": {},
   "outputs": [
    {
     "name": "stdout",
     "output_type": "stream",
     "text": [
      "['vhigh' 'high' 'med' 'low']\n",
      "['vhigh' 'high' 'med' 'low']\n",
      "['2' '3' '4' '5more']\n",
      "['2' '4' 'more']\n",
      "['small' 'med' 'big']\n",
      "['med' 'high' 'low']\n",
      "['unacc' 'acc' 'vgood' 'good']\n"
     ]
    }
   ],
   "source": [
    "#unique value for each columns\n",
    "print(data[\"buying\"].unique())\n",
    "print(data[\"maint\"].unique())\n",
    "print(data[\"doors\"].unique())\n",
    "print(data[\"persons\"].unique())\n",
    "print(data[\"lug_boot\"].unique())\n",
    "print(data[\"safety\"].unique())\n",
    "print(data[\"class\"].unique())"
   ]
  },
  {
   "cell_type": "code",
   "execution_count": 110,
   "id": "fe0c8c72",
   "metadata": {},
   "outputs": [
    {
     "data": {
      "text/html": [
       "<div>\n",
       "<style scoped>\n",
       "    .dataframe tbody tr th:only-of-type {\n",
       "        vertical-align: middle;\n",
       "    }\n",
       "\n",
       "    .dataframe tbody tr th {\n",
       "        vertical-align: top;\n",
       "    }\n",
       "\n",
       "    .dataframe thead th {\n",
       "        text-align: right;\n",
       "    }\n",
       "</style>\n",
       "<table border=\"1\" class=\"dataframe\">\n",
       "  <thead>\n",
       "    <tr style=\"text-align: right;\">\n",
       "      <th></th>\n",
       "      <th>buying</th>\n",
       "      <th>maint</th>\n",
       "      <th>doors</th>\n",
       "      <th>persons</th>\n",
       "      <th>lug_boot</th>\n",
       "      <th>safety</th>\n",
       "      <th>class</th>\n",
       "    </tr>\n",
       "  </thead>\n",
       "  <tbody>\n",
       "    <tr>\n",
       "      <th>count</th>\n",
       "      <td>1728</td>\n",
       "      <td>1728</td>\n",
       "      <td>1728</td>\n",
       "      <td>1728</td>\n",
       "      <td>1728</td>\n",
       "      <td>1728</td>\n",
       "      <td>1728</td>\n",
       "    </tr>\n",
       "    <tr>\n",
       "      <th>unique</th>\n",
       "      <td>4</td>\n",
       "      <td>4</td>\n",
       "      <td>4</td>\n",
       "      <td>3</td>\n",
       "      <td>3</td>\n",
       "      <td>3</td>\n",
       "      <td>4</td>\n",
       "    </tr>\n",
       "    <tr>\n",
       "      <th>top</th>\n",
       "      <td>vhigh</td>\n",
       "      <td>vhigh</td>\n",
       "      <td>2</td>\n",
       "      <td>2</td>\n",
       "      <td>small</td>\n",
       "      <td>med</td>\n",
       "      <td>unacc</td>\n",
       "    </tr>\n",
       "    <tr>\n",
       "      <th>freq</th>\n",
       "      <td>432</td>\n",
       "      <td>432</td>\n",
       "      <td>432</td>\n",
       "      <td>576</td>\n",
       "      <td>576</td>\n",
       "      <td>576</td>\n",
       "      <td>1210</td>\n",
       "    </tr>\n",
       "  </tbody>\n",
       "</table>\n",
       "</div>"
      ],
      "text/plain": [
       "       buying  maint doors persons lug_boot safety  class\n",
       "count    1728   1728  1728    1728     1728   1728   1728\n",
       "unique      4      4     4       3        3      3      4\n",
       "top     vhigh  vhigh     2       2    small    med  unacc\n",
       "freq      432    432   432     576      576    576   1210"
      ]
     },
     "execution_count": 110,
     "metadata": {},
     "output_type": "execute_result"
    }
   ],
   "source": [
    "#show statistical data\n",
    "data.describe()"
   ]
  },
  {
   "cell_type": "code",
   "execution_count": 129,
   "id": "63a78711",
   "metadata": {
    "scrolled": true
   },
   "outputs": [
    {
     "data": {
      "text/plain": [
       "0"
      ]
     },
     "execution_count": 129,
     "metadata": {},
     "output_type": "execute_result"
    }
   ],
   "source": [
    "#count duplicated\n",
    "data.duplicated().sum() "
   ]
  },
  {
   "cell_type": "code",
   "execution_count": 130,
   "id": "90006035",
   "metadata": {},
   "outputs": [
    {
     "name": "stdout",
     "output_type": "stream",
     "text": [
      "unacc    1210\n",
      "acc       384\n",
      "good       69\n",
      "vgood      65\n",
      "Name: class, dtype: int64\n"
     ]
    },
    {
     "data": {
      "image/png": "[encoded data removed]",
      "text/plain": [
       "<Figure size 432x288 with 1 Axes>"
      ]
     },
     "metadata": {},
     "output_type": "display_data"
    }
   ],
   "source": [
    "print(data[\"class\"].value_counts())\n",
    "data[\"class\"].value_counts().plot.pie(autopct='%1.1f%%')\n",
    "plt.show()"
   ]
  },
  {
   "cell_type": "raw",
   "id": "641bb162",
   "metadata": {},
   "source": [
    "70% of cars are unacceptable \n",
    "3.8% of cars are very good \n",
    "4% of cars are good \n",
    "22.2% of cars are acceptable "
   ]
  },
  {
   "cell_type": "markdown",
   "id": "671f08f0",
   "metadata": {},
   "source": [
    "# EDA"
   ]
  },
  {
   "cell_type": "code",
   "execution_count": 42,
   "id": "ad364990",
   "metadata": {},
   "outputs": [
    {
     "data": {
      "image/png": "[encoded data removed]",
      "text/plain": [
       "<Figure size 1080x504 with 6 Axes>"
      ]
     },
     "metadata": {
      "needs_background": "light"
     },
     "output_type": "display_data"
    }
   ],
   "source": [
    "fig,axs = plt.subplots(2,3,figsize=(15,7),tight_layout=True)\n",
    "axs[0][0].set_title(\"Distribution of buying\")\n",
    "axs[0][0].hist(data['buying'],bins=20)\n",
    "\n",
    "axs[0][1].set_title(\"Distribution of maint\")\n",
    "axs[0][1].hist(data['maint'],bins=20)\n",
    "\n",
    "axs[0][2].set_title(\"Distribution of doors\")\n",
    "axs[0][2].hist(data['doors'],bins=20)\n",
    "\n",
    "axs[1][0].set_title(\"Distribution of persons\")\n",
    "axs[1][0].hist(data['persons'],bins=20)\n",
    "\n",
    "axs[1][1].set_title(\"Distribution of luggage boot\")\n",
    "axs[1][1].hist(data['lug_boot'],bins=20)\n",
    "\n",
    "axs[1][2].set_title(\"Distribution of safety\")\n",
    "axs[1][2].hist(data['safety'],bins=20)\n",
    "\n",
    "fig.suptitle(\"Feature distributions\", fontsize=16)\n",
    "plt.show()"
   ]
  },
  {
   "cell_type": "code",
   "execution_count": 43,
   "id": "bac7d989",
   "metadata": {},
   "outputs": [],
   "source": [
    "# all features are balance"
   ]
  },
  {
   "cell_type": "code",
   "execution_count": 44,
   "id": "66350cf4",
   "metadata": {},
   "outputs": [],
   "source": [
    "def relationship(data,colunm_name,target):\n",
    "    plt.figure(figsize=(8,5))\n",
    "    plt.title('The relationship between ' + colunm_name +' and class')\n",
    "    \n",
    "    \"\"\"returns the number of elements is the number of rows * the number\n",
    "       of columns in gorup by between  feature and target \n",
    "    \"\"\"\n",
    "    print(data.groupby([colunm_name, target]).size().sort_values(ascending=False))\n",
    "    d=data.groupby([colunm_name, target]).size().sort_values(ascending=False)\n",
    "    d.plot.bar()\n",
    "    plt.show() "
   ]
  },
  {
   "cell_type": "code",
   "execution_count": 45,
   "id": "d0a3cc06",
   "metadata": {},
   "outputs": [
    {
     "name": "stdout",
     "output_type": "stream",
     "text": [
      "buying  class\n",
      "vhigh   unacc    360\n",
      "high    unacc    324\n",
      "med     unacc    268\n",
      "low     unacc    258\n",
      "med     acc      115\n",
      "high    acc      108\n",
      "low     acc       89\n",
      "vhigh   acc       72\n",
      "low     good      46\n",
      "        vgood     39\n",
      "med     vgood     26\n",
      "        good      23\n",
      "dtype: int64\n"
     ]
    },
    {
     "data": {
      "image/png": "[encoded data removed]",
      "text/plain": [
       "<Figure size 576x360 with 1 Axes>"
      ]
     },
     "metadata": {
      "needs_background": "light"
     },
     "output_type": "display_data"
    }
   ],
   "source": [
    "relationship(data,'buying','class')"
   ]
  },
  {
   "cell_type": "raw",
   "id": "1eddc8f5",
   "metadata": {},
   "source": [
    "number of buying a car with high price and is acceptable is 108.                                                               \n",
    "number of buying a car with high price and is unacceptable is 324.                                                    \n",
    "------------------------------------------------------------------\n",
    "number of buying a car with low price and is acceptabl e is 89.\n",
    "number of buying a car with low price and is good e is 46.\n",
    "number of buying a car with low price and is unacceptabl e is 258.\n",
    "number of buying a car with low price and is vgood e is 39.                                                                     \n",
    "------------------------------------------------------------------\n",
    "number of buying a car with med price and is acceptable is 115\n",
    "number of buying a car with med price and is good is 23\n",
    "number of buying a car with med price and is unacceptable is 268\n",
    "number of buying a car with med price and is vgood is 26\n",
    "-------------------------------------------------------------------\n",
    "number of buying a car with vhigh price and is acceptable is 72\n",
    "number of buying a car with vhigh price and is unacceptable is 359"
   ]
  },
  {
   "cell_type": "code",
   "execution_count": 46,
   "id": "2c4de962",
   "metadata": {},
   "outputs": [
    {
     "name": "stdout",
     "output_type": "stream",
     "text": [
      "maint  class\n",
      "vhigh  unacc    360\n",
      "high   unacc    314\n",
      "low    unacc    268\n",
      "med    unacc    268\n",
      "       acc      115\n",
      "high   acc      105\n",
      "low    acc       92\n",
      "vhigh  acc       72\n",
      "low    good      46\n",
      "       vgood     26\n",
      "med    vgood     26\n",
      "       good      23\n",
      "high   vgood     13\n",
      "dtype: int64\n"
     ]
    },
    {
     "data": {
      "image/png": "[encoded data removed]",
      "text/plain": [
       "<Figure size 576x360 with 1 Axes>"
      ]
     },
     "metadata": {
      "needs_background": "light"
     },
     "output_type": "display_data"
    }
   ],
   "source": [
    "relationship(data,'maint','class')"
   ]
  },
  {
   "cell_type": "raw",
   "id": "9b4fe0ff",
   "metadata": {},
   "source": [
    "number of maint a car with high maint and is acceptable is 105.                                                               \n",
    "number of maint a car with high maint and is unacceptable is 314. \n",
    "number of maint a car with high maint and is vgood is 13\n",
    "------------------------------------------------------------------\n",
    "number of maint a car with low maint and is acceptabl e is 92.\n",
    "number of maint a car with low maint and is good e is 46.\n",
    "number of maint a car with low maint and is unacceptabl e is 268.\n",
    "number of maint a car with low maint and is vgood e is 26.                                                                     \n",
    "------------------------------------------------------------------\n",
    "number of maint a car with med maint and is acceptable is 115\n",
    "number of maint a car with med maint and is good is 23\n",
    "number of maint a car with med maint and is unacceptable is 268\n",
    "number of maint a car with med maint and is vgood is 26\n",
    "-------------------------------------------------------------------\n",
    "number of maint a car with vhigh price and is acceptable is 72\n",
    "number of maint a car with vhigh price and is unacceptable is 359"
   ]
  },
  {
   "cell_type": "code",
   "execution_count": 47,
   "id": "7bb23293",
   "metadata": {},
   "outputs": [
    {
     "name": "stdout",
     "output_type": "stream",
     "text": [
      "doors  class\n",
      "2      unacc    326\n",
      "3      unacc    300\n",
      "4      unacc    292\n",
      "5more  unacc    292\n",
      "4      acc      102\n",
      "5more  acc      102\n",
      "3      acc       99\n",
      "2      acc       81\n",
      "4      vgood     20\n",
      "5more  vgood     20\n",
      "3      good      18\n",
      "4      good      18\n",
      "5more  good      18\n",
      "2      good      15\n",
      "3      vgood     15\n",
      "2      vgood     10\n",
      "dtype: int64\n"
     ]
    },
    {
     "data": {
      "image/png": "[encoded data removed]",
      "text/plain": [
       "<Figure size 576x360 with 1 Axes>"
      ]
     },
     "metadata": {
      "needs_background": "light"
     },
     "output_type": "display_data"
    }
   ],
   "source": [
    "relationship(data,'doors','class')"
   ]
  },
  {
   "cell_type": "raw",
   "id": "0f5894e9",
   "metadata": {},
   "source": [
    "The number of car with 2-doors and is acceptable is 81.      \n",
    "The number of car with 2-doors and is good is 15.\n",
    "The number of car with 2-doors and is unacceptable is 326.      \n",
    "The number of car with 2-doors and is very good is 10. \n",
    "------------------------------------------------------\n",
    "The number of car with 3-doors and is acceptable is 99.      \n",
    "The number of car with 3-doors and is good is 18.\n",
    "The number of car with 3-doors and is unacceptable is 300.      \n",
    "The number of car with 3-doors and is very good is 15. \n",
    "------------------------------------------------------\n",
    "The number of car with 4-doors and is acceptable is 102.      \n",
    "The number of car with 4-doors and is good is 18.\n",
    "The number of car with 4-doors and is unacceptable is 292.      \n",
    "The number of car with 4-doors and is very good is 20. \n",
    "------------------------------------------------------\n",
    "The number of car with 5more-doors and is acceptable is 102.      \n",
    "The number of car with 5more-doors and is good is 18.\n",
    "The number of car with 5more-doors and is unacceptable is 292.      \n",
    "The number of car with 5more-doors and is very good is 20. "
   ]
  },
  {
   "cell_type": "code",
   "execution_count": 48,
   "id": "5eb0a768",
   "metadata": {
    "scrolled": false
   },
   "outputs": [
    {
     "name": "stdout",
     "output_type": "stream",
     "text": [
      "lug_boot  class\n",
      "small     unacc    450\n",
      "med       unacc    392\n",
      "big       unacc    368\n",
      "          acc      144\n",
      "med       acc      135\n",
      "small     acc      105\n",
      "big       vgood     40\n",
      "med       vgood     25\n",
      "big       good      24\n",
      "med       good      24\n",
      "small     good      21\n",
      "dtype: int64\n"
     ]
    },
    {
     "data": {
      "image/png": "[encoded data removed]",
      "text/plain": [
       "<Figure size 576x360 with 1 Axes>"
      ]
     },
     "metadata": {
      "needs_background": "light"
     },
     "output_type": "display_data"
    }
   ],
   "source": [
    "relationship(data,'lug_boot','class')"
   ]
  },
  {
   "cell_type": "raw",
   "id": "91f7f60b",
   "metadata": {},
   "source": [
    "number of luggage boot a car with big luggage boot and is acceptable is 114.   \n",
    "number of luggage boot a car with big luggage boot and is good is 24. \n",
    "number of luggage boot a car with big luggage boot and is unacceptable is 368. \n",
    "number of luggage boot a car with big luggage boote and is vgood is 40.\n",
    "------------------------------------------------------------------\n",
    "number of luggage boot a car with med luggage boot and is acceptabl e is 135.\n",
    "number of luggage boot a car with med luggage boot and is good e is 24.\n",
    "number of luggage boot a car with med luggage boot and is unacceptabl e is 392.\n",
    "number of luggage boot a car with med luggage boot and is vgood e is 25.                                                         \n",
    "------------------------------------------------------------------\n",
    "number of luggage boot a car with small luggage boot and is acceptable is 115\n",
    "number of luggage boot a car with small luggage boot and is good is 23\n",
    "number of luggage boot a car with big luggage boot and is unacceptable is 268"
   ]
  },
  {
   "cell_type": "code",
   "execution_count": 49,
   "id": "4269e737",
   "metadata": {},
   "outputs": [
    {
     "name": "stdout",
     "output_type": "stream",
     "text": [
      "safety  class\n",
      "low     unacc    576\n",
      "med     unacc    357\n",
      "high    unacc    277\n",
      "        acc      204\n",
      "med     acc      180\n",
      "high    vgood     65\n",
      "med     good      39\n",
      "high    good      30\n",
      "dtype: int64\n"
     ]
    },
    {
     "data": {
      "image/png": "[encoded data removed]",
      "text/plain": [
       "<Figure size 576x360 with 1 Axes>"
      ]
     },
     "metadata": {
      "needs_background": "light"
     },
     "output_type": "display_data"
    }
   ],
   "source": [
    "relationship(data,'safety','class')"
   ]
  },
  {
   "cell_type": "raw",
   "id": "e25f1911",
   "metadata": {},
   "source": [
    "number of safety a car with high safety and is acceptable is 204.   \n",
    "number of safety a car with high safety and is good is 30. \n",
    "number of safety a car with high safety and is unacceptable is 277. \n",
    "number of safety a car with high safety and is vgood is 65.\n",
    "------------------------------------------------------------------\n",
    "number of safety a car with low safety and is unacceptable is 575\n",
    "------------------------------------------------------------------\n",
    "number of safety a car with med safety and is acceptabl e is 180.\n",
    "number of safety a car with med safety and is good e is 39.\n",
    "number of safety a car with med safety and is unacceptabl e is 357."
   ]
  },
  {
   "cell_type": "code",
   "execution_count": 50,
   "id": "e048962c",
   "metadata": {},
   "outputs": [
    {
     "name": "stdout",
     "output_type": "stream",
     "text": [
      "doors  class\n",
      "2      unacc    326\n",
      "3      unacc    300\n",
      "4      unacc    292\n",
      "5more  unacc    292\n",
      "4      acc      102\n",
      "5more  acc      102\n",
      "3      acc       99\n",
      "2      acc       81\n",
      "4      vgood     20\n",
      "5more  vgood     20\n",
      "3      good      18\n",
      "4      good      18\n",
      "5more  good      18\n",
      "2      good      15\n",
      "3      vgood     15\n",
      "2      vgood     10\n",
      "dtype: int64\n"
     ]
    },
    {
     "data": {
      "image/png": "[encoded data removed]",
      "text/plain": [
       "<Figure size 576x360 with 1 Axes>"
      ]
     },
     "metadata": {
      "needs_background": "light"
     },
     "output_type": "display_data"
    }
   ],
   "source": [
    "relationship(data,'doors','class')"
   ]
  },
  {
   "cell_type": "code",
   "execution_count": null,
   "id": "83080e5b",
   "metadata": {},
   "outputs": [],
   "source": [
    "def twoway_table_relative(data,colunm_name,target):\n",
    "    twowaytable=pd.crosstab(data[target],data[colunm_name],margins=True)\n",
    "    \n",
    "    \"\"\"\n",
    "    builds a cross-tabulation table that can show the \n",
    "    frequency with which certain groups of data appear.\n",
    "    \"\"\"\n",
    "    print(twowaytable)\n",
    "    relative_table = round(twowaytable/twowaytable.loc[\"All\"], 2)\n",
    "    \n",
    "    \"\"\"\n",
    "    a relative frequency table that tells frequencies instead of counts.\n",
    "    \"\"\"\n",
    "    print(\"___\"*13)\n",
    "    print(relative_table.drop(['All'], axis=0))\n",
    "    relative_table.drop(['All'], axis=0).plot.bar()\n",
    "    plt.show()"
   ]
  },
  {
   "cell_type": "code",
   "execution_count": 195,
   "id": "2e7b0bc8",
   "metadata": {},
   "outputs": [],
   "source": [
    "def twoway_table_relative(data,colunm_name,target):\n",
    "    twowaytable=pd.crosstab(data[target],data[colunm_name],margins=True)\n",
    "    \n",
    "    \"\"\"\n",
    "    builds a cross-tabulation table that can show the \n",
    "    frequency with which certain groups of data appear.\n",
    "    \"\"\"\n",
    "    print(twowaytable)\n",
    "    relative_table = round(twowaytable/twowaytable.loc[\"All\"], 2)\n",
    "    \n",
    "    \"\"\"\n",
    "    a relative frequency table that tells frequencies instead of counts.\n",
    "    \"\"\"\n",
    "    print(\"___\"*13)\n",
    "    print(relative_table.drop(['All'], axis=0))\n",
    "    relative_table.drop(['All'], axis=0).plot.bar()\n",
    "    plt.show()\n",
    "    relative_table=relative_table.drop(['All'], axis=0)\n",
    "    relative_table['All'].plot.pie(autopct='%1.1f%%')\n",
    "    plt.show()"
   ]
  },
  {
   "cell_type": "code",
   "execution_count": 196,
   "id": "daac4f8d",
   "metadata": {},
   "outputs": [
    {
     "name": "stdout",
     "output_type": "stream",
     "text": [
      "buying  high  low  med  vhigh   All\n",
      "class                              \n",
      "acc      108   89  115     72   384\n",
      "good       0   46   23      0    69\n",
      "unacc    324  258  268    360  1210\n",
      "vgood      0   39   26      0    65\n",
      "All      432  432  432    432  1728\n",
      "_______________________________________\n",
      "buying  high   low   med  vhigh   All\n",
      "class                                \n",
      "acc     0.25  0.21  0.27   0.17  0.22\n",
      "good    0.00  0.11  0.05   0.00  0.04\n",
      "unacc   0.75  0.60  0.62   0.83  0.70\n",
      "vgood   0.00  0.09  0.06   0.00  0.04\n"
     ]
    },
    {
     "data": {
      "image/png": "[encoded data removed]",
      "text/plain": [
       "<Figure size 432x288 with 1 Axes>"
      ]
     },
     "metadata": {
      "needs_background": "light"
     },
     "output_type": "display_data"
    },
    {
     "data": {
      "image/png": "[encoded data removed]",
      "text/plain": [
       "<Figure size 432x288 with 1 Axes>"
      ]
     },
     "metadata": {},
     "output_type": "display_data"
    }
   ],
   "source": [
    "twoway_table_relative(data,'buying','class')"
   ]
  },
  {
   "cell_type": "raw",
   "id": "3db4850b",
   "metadata": {},
   "source": [
    "25% of cars with a high buying price was acceptable.\n",
    "75% of cars with a high buying price was unacceptable.\n",
    "______________________________________________________\n",
    "21% of cars with a low buying price was acceptable.\n",
    "11% of cars with a low buying price was good.\n",
    "60% of cars with a low buying price was acceptable.\n",
    "9% of cars with a low buying price was very good.\n",
    "_______________________________________________________\n",
    "27% of cars with a med buying price was acceptable.\n",
    "5% of cars with a med buying price was good.\n",
    "62% of cars with a med buying price was acceptable.\n",
    "6% of cars with a med buying price was very good.\n",
    "___________________________________________________\n",
    "17% of cars with a very high buying price was acceptable.\n",
    "83% of cars with a very high buying price was unacceptable.\n"
   ]
  },
  {
   "cell_type": "raw",
   "id": "9506b0e2",
   "metadata": {},
   "source": [
    "70% of buying are unacceptable \n",
    "4% of buying are very good \n",
    "4% of buying are good \n",
    "22% of buying are acceptable "
   ]
  },
  {
   "cell_type": "code",
   "execution_count": 197,
   "id": "f8c23623",
   "metadata": {
    "scrolled": false
   },
   "outputs": [
    {
     "name": "stdout",
     "output_type": "stream",
     "text": [
      "maint  high  low  med  vhigh   All\n",
      "class                             \n",
      "acc     105   92  115     72   384\n",
      "good      0   46   23      0    69\n",
      "unacc   314  268  268    360  1210\n",
      "vgood    13   26   26      0    65\n",
      "All     432  432  432    432  1728\n",
      "_______________________________________\n",
      "maint  high   low   med  vhigh   All\n",
      "class                               \n",
      "acc    0.24  0.21  0.27   0.17  0.22\n",
      "good   0.00  0.11  0.05   0.00  0.04\n",
      "unacc  0.73  0.62  0.62   0.83  0.70\n",
      "vgood  0.03  0.06  0.06   0.00  0.04\n"
     ]
    },
    {
     "data": {
      "image/png": "[encoded data removed]",
      "text/plain": [
       "<Figure size 432x288 with 1 Axes>"
      ]
     },
     "metadata": {
      "needs_background": "light"
     },
     "output_type": "display_data"
    },
    {
     "data": {
      "image/png": "[encoded data removed]",
      "text/plain": [
       "<Figure size 432x288 with 1 Axes>"
      ]
     },
     "metadata": {},
     "output_type": "display_data"
    }
   ],
   "source": [
    "twoway_table_relative(data,'maint','class')"
   ]
  },
  {
   "cell_type": "raw",
   "id": "778c5ae6",
   "metadata": {},
   "source": [
    "24% of cars with a high maintenance price was acceptable.\n",
    "73% of cars with a high maintenance price was unacceptable.\n",
    "3% of cars with a high maintenance price was very good.\n",
    "______________________________________________________\n",
    "21% of cars with a low maintenance price was acceptable.\n",
    "11% of cars with a low maintenance price was good.\n",
    "62% of cars with a low maintenance price was acceptable.\n",
    "6% of cars with a low maintenance price was very good.\n",
    "_______________________________________________________\n",
    "27% of cars with a med maintenance price was acceptable.\n",
    "5% of cars with a med maintenance price was good.\n",
    "62% of cars with a med maintenance price was acceptable.\n",
    "6% of cars with a med maintenance price was very good.\n",
    "___________________________________________________\n",
    "17% of cars with a very high maintenance price was acceptable.\n",
    "83% of cars with a very high maintenance price was unacceptable."
   ]
  },
  {
   "cell_type": "raw",
   "id": "c09a67f9",
   "metadata": {},
   "source": [
    "70% of maintenance price are unacceptable \n",
    "4% of maintenance price are very good \n",
    "4% of maintenance price are good \n",
    "22% of maintenance price are acceptable "
   ]
  },
  {
   "cell_type": "code",
   "execution_count": 198,
   "id": "e748aafc",
   "metadata": {},
   "outputs": [
    {
     "name": "stdout",
     "output_type": "stream",
     "text": [
      "lug_boot  big  med  small   All\n",
      "class                          \n",
      "acc       144  135    105   384\n",
      "good       24   24     21    69\n",
      "unacc     368  392    450  1210\n",
      "vgood      40   25      0    65\n",
      "All       576  576    576  1728\n",
      "_______________________________________\n",
      "lug_boot   big   med  small   All\n",
      "class                            \n",
      "acc       0.25  0.23   0.18  0.22\n",
      "good      0.04  0.04   0.04  0.04\n",
      "unacc     0.64  0.68   0.78  0.70\n",
      "vgood     0.07  0.04   0.00  0.04\n"
     ]
    },
    {
     "data": {
      "image/png": "[encoded data removed]",
      "text/plain": [
       "<Figure size 432x288 with 1 Axes>"
      ]
     },
     "metadata": {
      "needs_background": "light"
     },
     "output_type": "display_data"
    },
    {
     "data": {
      "image/png": "[encoded data removed]",
      "text/plain": [
       "<Figure size 432x288 with 1 Axes>"
      ]
     },
     "metadata": {},
     "output_type": "display_data"
    }
   ],
   "source": [
    "twoway_table_relative(data,'lug_boot','class')"
   ]
  },
  {
   "cell_type": "raw",
   "id": "f3aaf68e",
   "metadata": {},
   "source": [
    "25% of cars with a big luggage boot  was acceptable.\n",
    "4% of cars with a big luggage boot was  good.\n",
    "64% of cars with a med  maint price was unacceptable.\n",
    "7% of cars with a big luggage boot was very good.\n",
    "______________________________________________________\n",
    "23% of cars with a med luggage boot acceptable.\n",
    "4% of cars with a med luggage boot was good.\n",
    "68% of cars with a med luggage boot was unacceptable.\n",
    "4% of cars with a med luggage boot was very good.\n",
    "_______________________________________________________\n",
    "18% of cars with a small luggage boot was acceptable.\n",
    "4% of cars with a small luggage boot was good.\n",
    "78% of cars with a small luggage boot was acceptable."
   ]
  },
  {
   "cell_type": "code",
   "execution_count": null,
   "id": "a53b0d14",
   "metadata": {},
   "outputs": [],
   "source": [
    "70% of luggage boot are unacceptable \n",
    "4% of luggage boot are very good \n",
    "4% of luggage boot are good \n",
    "22% of luggage bootprice are acceptable "
   ]
  },
  {
   "cell_type": "code",
   "execution_count": 199,
   "id": "8ec08fb3",
   "metadata": {},
   "outputs": [
    {
     "name": "stdout",
     "output_type": "stream",
     "text": [
      "safety  high  low  med   All\n",
      "class                       \n",
      "acc      204    0  180   384\n",
      "good      30    0   39    69\n",
      "unacc    277  576  357  1210\n",
      "vgood     65    0    0    65\n",
      "All      576  576  576  1728\n",
      "_______________________________________\n",
      "safety  high  low   med   All\n",
      "class                        \n",
      "acc     0.35  0.0  0.31  0.22\n",
      "good    0.05  0.0  0.07  0.04\n",
      "unacc   0.48  1.0  0.62  0.70\n",
      "vgood   0.11  0.0  0.00  0.04\n"
     ]
    },
    {
     "data": {
      "image/png": "[encoded data removed]",
      "text/plain": [
       "<Figure size 432x288 with 1 Axes>"
      ]
     },
     "metadata": {
      "needs_background": "light"
     },
     "output_type": "display_data"
    },
    {
     "data": {
      "image/png": "[encoded data removed]",
      "text/plain": [
       "<Figure size 432x288 with 1 Axes>"
      ]
     },
     "metadata": {},
     "output_type": "display_data"
    }
   ],
   "source": [
    "twoway_table_relative(data,'safety','class')"
   ]
  },
  {
   "cell_type": "raw",
   "id": "718e1fe6",
   "metadata": {},
   "source": [
    "35% of cars with a big safety was acceptable.\n",
    "5% of cars with a big safety was  good.\n",
    "48% of cars with a med safety was unacceptable.\n",
    "11% of cars with a big safety was very good.\n",
    "______________________________________________________\n",
    "100% of cars with a med safety was unacceptable.\n",
    "_______________________________________________________\n",
    "31% of cars with a small safety was acceptable.\n",
    "7% of cars with a small safety was good.\n",
    "62% of cars with a small safety was unacceptable."
   ]
  },
  {
   "cell_type": "raw",
   "id": "61cb2a91",
   "metadata": {},
   "source": [
    "70% of safety are unacceptable \n",
    "4% of safety are very good \n",
    "4% of safety are good \n",
    "22% of safety are acceptable"
   ]
  },
  {
   "cell_type": "code",
   "execution_count": 200,
   "id": "99313e73",
   "metadata": {},
   "outputs": [
    {
     "name": "stdout",
     "output_type": "stream",
     "text": [
      "doors    2    3    4  5more   All\n",
      "class                            \n",
      "acc     81   99  102    102   384\n",
      "good    15   18   18     18    69\n",
      "unacc  326  300  292    292  1210\n",
      "vgood   10   15   20     20    65\n",
      "All    432  432  432    432  1728\n",
      "_______________________________________\n",
      "doors     2     3     4  5more   All\n",
      "class                               \n",
      "acc    0.19  0.23  0.24   0.24  0.22\n",
      "good   0.03  0.04  0.04   0.04  0.04\n",
      "unacc  0.75  0.69  0.68   0.68  0.70\n",
      "vgood  0.02  0.03  0.05   0.05  0.04\n"
     ]
    },
    {
     "data": {
      "image/png": "[encoded data removed]",
      "text/plain": [
       "<Figure size 432x288 with 1 Axes>"
      ]
     },
     "metadata": {
      "needs_background": "light"
     },
     "output_type": "display_data"
    },
    {
     "data": {
      "image/png": "[encoded data removed]",
      "text/plain": [
       "<Figure size 432x288 with 1 Axes>"
      ]
     },
     "metadata": {},
     "output_type": "display_data"
    }
   ],
   "source": [
    "twoway_table_relative(data,'doors','class')"
   ]
  },
  {
   "cell_type": "code",
   "execution_count": null,
   "id": "e9d961ff",
   "metadata": {},
   "outputs": [],
   "source": [
    "19% of cars with 2-doors   was acceptable.\n",
    "3% of cars with 2-doors  boot was  good.\n",
    "75% of cars with 2-doors e was unacceptable.\n",
    "2% of cars with 2-doors  boot was very good.\n",
    "______________________________________________________\n",
    "23% of cars with 3-doors   was acceptable.\n",
    "4% of cars with 3-doors  boot was  good.\n",
    "69% of cars with 3-doors e was unacceptable.\n",
    "3% of cars with 3-doors  boot was very good.\n",
    "_______________________________________________________\n",
    "24% of cars with 4-doors   was acceptable.\n",
    "4% of cars with 4-doors  boot was  good.\n",
    "68% of cars with 4-doors e was unacceptable.\n",
    "5% of cars with 4-doors  boot was very good.\n",
    "______________________________________________________\n",
    "22% of carswith 5more-doors  acceptable.\n",
    "4% of cars with 5more-doors  was good.\n",
    "70% of cars with 5more-doors  was unacceptable.\n",
    "4% of cars with 5more-doors  was very good."
   ]
  },
  {
   "cell_type": "raw",
   "id": "27723b84",
   "metadata": {},
   "source": [
    "70% of doors are unacceptable \n",
    "4% of doors are very good \n",
    "4% of doors are good \n",
    "22% of doors are acceptable"
   ]
  },
  {
   "cell_type": "code",
   "execution_count": 239,
   "id": "d19fff41",
   "metadata": {},
   "outputs": [
    {
     "data": {
      "text/html": [
       "<div>\n",
       "<style scoped>\n",
       "    .dataframe tbody tr th:only-of-type {\n",
       "        vertical-align: middle;\n",
       "    }\n",
       "\n",
       "    .dataframe tbody tr th {\n",
       "        vertical-align: top;\n",
       "    }\n",
       "\n",
       "    .dataframe thead th {\n",
       "        text-align: right;\n",
       "    }\n",
       "</style>\n",
       "<table border=\"1\" class=\"dataframe\">\n",
       "  <thead>\n",
       "    <tr style=\"text-align: right;\">\n",
       "      <th></th>\n",
       "      <th>buying</th>\n",
       "      <th>maint</th>\n",
       "      <th>doors</th>\n",
       "      <th>persons</th>\n",
       "      <th>lug_boot</th>\n",
       "      <th>safety</th>\n",
       "      <th>class</th>\n",
       "    </tr>\n",
       "  </thead>\n",
       "  <tbody>\n",
       "    <tr>\n",
       "      <th>226</th>\n",
       "      <td>vhigh</td>\n",
       "      <td>med</td>\n",
       "      <td>2</td>\n",
       "      <td>4</td>\n",
       "      <td>small</td>\n",
       "      <td>high</td>\n",
       "      <td>acc</td>\n",
       "    </tr>\n",
       "    <tr>\n",
       "      <th>229</th>\n",
       "      <td>vhigh</td>\n",
       "      <td>med</td>\n",
       "      <td>2</td>\n",
       "      <td>4</td>\n",
       "      <td>med</td>\n",
       "      <td>high</td>\n",
       "      <td>acc</td>\n",
       "    </tr>\n",
       "    <tr>\n",
       "      <th>231</th>\n",
       "      <td>vhigh</td>\n",
       "      <td>med</td>\n",
       "      <td>2</td>\n",
       "      <td>4</td>\n",
       "      <td>big</td>\n",
       "      <td>med</td>\n",
       "      <td>acc</td>\n",
       "    </tr>\n",
       "    <tr>\n",
       "      <th>232</th>\n",
       "      <td>vhigh</td>\n",
       "      <td>med</td>\n",
       "      <td>2</td>\n",
       "      <td>4</td>\n",
       "      <td>big</td>\n",
       "      <td>high</td>\n",
       "      <td>acc</td>\n",
       "    </tr>\n",
       "    <tr>\n",
       "      <th>238</th>\n",
       "      <td>vhigh</td>\n",
       "      <td>med</td>\n",
       "      <td>2</td>\n",
       "      <td>more</td>\n",
       "      <td>med</td>\n",
       "      <td>high</td>\n",
       "      <td>acc</td>\n",
       "    </tr>\n",
       "    <tr>\n",
       "      <th>...</th>\n",
       "      <td>...</td>\n",
       "      <td>...</td>\n",
       "      <td>...</td>\n",
       "      <td>...</td>\n",
       "      <td>...</td>\n",
       "      <td>...</td>\n",
       "      <td>...</td>\n",
       "    </tr>\n",
       "    <tr>\n",
       "      <th>1720</th>\n",
       "      <td>low</td>\n",
       "      <td>low</td>\n",
       "      <td>5more</td>\n",
       "      <td>more</td>\n",
       "      <td>small</td>\n",
       "      <td>high</td>\n",
       "      <td>good</td>\n",
       "    </tr>\n",
       "    <tr>\n",
       "      <th>1722</th>\n",
       "      <td>low</td>\n",
       "      <td>low</td>\n",
       "      <td>5more</td>\n",
       "      <td>more</td>\n",
       "      <td>med</td>\n",
       "      <td>med</td>\n",
       "      <td>good</td>\n",
       "    </tr>\n",
       "    <tr>\n",
       "      <th>1723</th>\n",
       "      <td>low</td>\n",
       "      <td>low</td>\n",
       "      <td>5more</td>\n",
       "      <td>more</td>\n",
       "      <td>med</td>\n",
       "      <td>high</td>\n",
       "      <td>vgood</td>\n",
       "    </tr>\n",
       "    <tr>\n",
       "      <th>1725</th>\n",
       "      <td>low</td>\n",
       "      <td>low</td>\n",
       "      <td>5more</td>\n",
       "      <td>more</td>\n",
       "      <td>big</td>\n",
       "      <td>med</td>\n",
       "      <td>good</td>\n",
       "    </tr>\n",
       "    <tr>\n",
       "      <th>1726</th>\n",
       "      <td>low</td>\n",
       "      <td>low</td>\n",
       "      <td>5more</td>\n",
       "      <td>more</td>\n",
       "      <td>big</td>\n",
       "      <td>high</td>\n",
       "      <td>vgood</td>\n",
       "    </tr>\n",
       "  </tbody>\n",
       "</table>\n",
       "<p>518 rows × 7 columns</p>\n",
       "</div>"
      ],
      "text/plain": [
       "     buying maint  doors persons lug_boot safety  class\n",
       "226   vhigh   med      2       4    small   high    acc\n",
       "229   vhigh   med      2       4      med   high    acc\n",
       "231   vhigh   med      2       4      big    med    acc\n",
       "232   vhigh   med      2       4      big   high    acc\n",
       "238   vhigh   med      2    more      med   high    acc\n",
       "...     ...   ...    ...     ...      ...    ...    ...\n",
       "1720    low   low  5more    more    small   high   good\n",
       "1722    low   low  5more    more      med    med   good\n",
       "1723    low   low  5more    more      med   high  vgood\n",
       "1725    low   low  5more    more      big    med   good\n",
       "1726    low   low  5more    more      big   high  vgood\n",
       "\n",
       "[518 rows x 7 columns]"
      ]
     },
     "execution_count": 239,
     "metadata": {},
     "output_type": "execute_result"
    }
   ],
   "source": [
    "new_data_all_acc = data.loc[(data['class'] != 'unacc')]\n",
    "new_data_all_acc"
   ]
  },
  {
   "cell_type": "code",
   "execution_count": 247,
   "id": "2189d7e0",
   "metadata": {},
   "outputs": [
    {
     "data": {
      "image/png": "[encoded data removed]",
      "text/plain": [
       "<Figure size 1080x504 with 6 Axes>"
      ]
     },
     "metadata": {
      "needs_background": "light"
     },
     "output_type": "display_data"
    }
   ],
   "source": [
    "fig,axs = plt.subplots(2,3,figsize=(15,7),tight_layout=True)\n",
    "axs[0][0].set_title(\"Distribution of buying\")\n",
    "axs[0][0].hist(new_data_all_acc['buying'],bins=20)\n",
    "\n",
    "axs[0][1].set_title(\"Distribution of maint\")\n",
    "axs[0][1].hist(new_data_all_acc['maint'],bins=20)\n",
    "\n",
    "axs[0][2].set_title(\"Distribution of doors\")\n",
    "axs[0][2].hist(new_data_all_acc['doors'],bins=20)\n",
    "\n",
    "axs[1][0].set_title(\"Distribution of persons\")\n",
    "axs[1][0].hist(new_data_all_acc['persons'],bins=20)\n",
    "\n",
    "axs[1][1].set_title(\"Distribution of luggage boot\")\n",
    "axs[1][1].hist(new_data_all_acc['lug_boot'],bins=20)\n",
    "\n",
    "axs[1][2].set_title(\"Distribution of safety\")\n",
    "axs[1][2].hist(new_data_all_acc['safety'],bins=20)\n",
    "\n",
    "fig.suptitle(\"Feature distributions all acceptable\", fontsize=16)\n",
    "plt.show()"
   ]
  },
  {
   "cell_type": "code",
   "execution_count": null,
   "id": "bc30b74b",
   "metadata": {},
   "outputs": [],
   "source": [
    "#the car be acceptable and good and very good when the safety high or med  and person 4 or more "
   ]
  },
  {
   "cell_type": "code",
   "execution_count": null,
   "id": "ad585198",
   "metadata": {},
   "outputs": [],
   "source": []
  },
  {
   "cell_type": "code",
   "execution_count": 228,
   "id": "b9c285ed",
   "metadata": {},
   "outputs": [
    {
     "data": {
      "text/html": [
       "<div>\n",
       "<style scoped>\n",
       "    .dataframe tbody tr th:only-of-type {\n",
       "        vertical-align: middle;\n",
       "    }\n",
       "\n",
       "    .dataframe tbody tr th {\n",
       "        vertical-align: top;\n",
       "    }\n",
       "\n",
       "    .dataframe thead th {\n",
       "        text-align: right;\n",
       "    }\n",
       "</style>\n",
       "<table border=\"1\" class=\"dataframe\">\n",
       "  <thead>\n",
       "    <tr style=\"text-align: right;\">\n",
       "      <th></th>\n",
       "      <th>buying</th>\n",
       "      <th>maint</th>\n",
       "      <th>doors</th>\n",
       "      <th>persons</th>\n",
       "      <th>lug_boot</th>\n",
       "      <th>safety</th>\n",
       "      <th>class</th>\n",
       "    </tr>\n",
       "  </thead>\n",
       "  <tbody>\n",
       "    <tr>\n",
       "      <th>1198</th>\n",
       "      <td>med</td>\n",
       "      <td>low</td>\n",
       "      <td>2</td>\n",
       "      <td>4</td>\n",
       "      <td>small</td>\n",
       "      <td>high</td>\n",
       "      <td>good</td>\n",
       "    </tr>\n",
       "    <tr>\n",
       "      <th>1201</th>\n",
       "      <td>med</td>\n",
       "      <td>low</td>\n",
       "      <td>2</td>\n",
       "      <td>4</td>\n",
       "      <td>med</td>\n",
       "      <td>high</td>\n",
       "      <td>good</td>\n",
       "    </tr>\n",
       "    <tr>\n",
       "      <th>1203</th>\n",
       "      <td>med</td>\n",
       "      <td>low</td>\n",
       "      <td>2</td>\n",
       "      <td>4</td>\n",
       "      <td>big</td>\n",
       "      <td>med</td>\n",
       "      <td>good</td>\n",
       "    </tr>\n",
       "    <tr>\n",
       "      <th>1210</th>\n",
       "      <td>med</td>\n",
       "      <td>low</td>\n",
       "      <td>2</td>\n",
       "      <td>more</td>\n",
       "      <td>med</td>\n",
       "      <td>high</td>\n",
       "      <td>good</td>\n",
       "    </tr>\n",
       "    <tr>\n",
       "      <th>1212</th>\n",
       "      <td>med</td>\n",
       "      <td>low</td>\n",
       "      <td>2</td>\n",
       "      <td>more</td>\n",
       "      <td>big</td>\n",
       "      <td>med</td>\n",
       "      <td>good</td>\n",
       "    </tr>\n",
       "    <tr>\n",
       "      <th>...</th>\n",
       "      <td>...</td>\n",
       "      <td>...</td>\n",
       "      <td>...</td>\n",
       "      <td>...</td>\n",
       "      <td>...</td>\n",
       "      <td>...</td>\n",
       "      <td>...</td>\n",
       "    </tr>\n",
       "    <tr>\n",
       "      <th>1713</th>\n",
       "      <td>low</td>\n",
       "      <td>low</td>\n",
       "      <td>5more</td>\n",
       "      <td>4</td>\n",
       "      <td>med</td>\n",
       "      <td>med</td>\n",
       "      <td>good</td>\n",
       "    </tr>\n",
       "    <tr>\n",
       "      <th>1716</th>\n",
       "      <td>low</td>\n",
       "      <td>low</td>\n",
       "      <td>5more</td>\n",
       "      <td>4</td>\n",
       "      <td>big</td>\n",
       "      <td>med</td>\n",
       "      <td>good</td>\n",
       "    </tr>\n",
       "    <tr>\n",
       "      <th>1720</th>\n",
       "      <td>low</td>\n",
       "      <td>low</td>\n",
       "      <td>5more</td>\n",
       "      <td>more</td>\n",
       "      <td>small</td>\n",
       "      <td>high</td>\n",
       "      <td>good</td>\n",
       "    </tr>\n",
       "    <tr>\n",
       "      <th>1722</th>\n",
       "      <td>low</td>\n",
       "      <td>low</td>\n",
       "      <td>5more</td>\n",
       "      <td>more</td>\n",
       "      <td>med</td>\n",
       "      <td>med</td>\n",
       "      <td>good</td>\n",
       "    </tr>\n",
       "    <tr>\n",
       "      <th>1725</th>\n",
       "      <td>low</td>\n",
       "      <td>low</td>\n",
       "      <td>5more</td>\n",
       "      <td>more</td>\n",
       "      <td>big</td>\n",
       "      <td>med</td>\n",
       "      <td>good</td>\n",
       "    </tr>\n",
       "  </tbody>\n",
       "</table>\n",
       "<p>69 rows × 7 columns</p>\n",
       "</div>"
      ],
      "text/plain": [
       "     buying maint  doors persons lug_boot safety class\n",
       "1198    med   low      2       4    small   high  good\n",
       "1201    med   low      2       4      med   high  good\n",
       "1203    med   low      2       4      big    med  good\n",
       "1210    med   low      2    more      med   high  good\n",
       "1212    med   low      2    more      big    med  good\n",
       "...     ...   ...    ...     ...      ...    ...   ...\n",
       "1713    low   low  5more       4      med    med  good\n",
       "1716    low   low  5more       4      big    med  good\n",
       "1720    low   low  5more    more    small   high  good\n",
       "1722    low   low  5more    more      med    med  good\n",
       "1725    low   low  5more    more      big    med  good\n",
       "\n",
       "[69 rows x 7 columns]"
      ]
     },
     "execution_count": 228,
     "metadata": {},
     "output_type": "execute_result"
    }
   ],
   "source": [
    "new_data_good = data.loc[(data['class'] == 'good')]\n",
    "new_data_good"
   ]
  },
  {
   "cell_type": "code",
   "execution_count": 248,
   "id": "50c80d59",
   "metadata": {},
   "outputs": [
    {
     "data": {
      "image/png": "[encoded data removed]",
      "text/plain": [
       "<Figure size 1080x504 with 6 Axes>"
      ]
     },
     "metadata": {
      "needs_background": "light"
     },
     "output_type": "display_data"
    }
   ],
   "source": [
    "fig,axs = plt.subplots(2,3,figsize=(15,7),tight_layout=True)\n",
    "axs[0][0].set_title(\"Distribution of buying\")\n",
    "axs[0][0].hist(new_data_good['buying'],bins=20)\n",
    "\n",
    "axs[0][1].set_title(\"Distribution of maint\")\n",
    "axs[0][1].hist(new_data_good['maint'],bins=20)\n",
    "\n",
    "axs[0][2].set_title(\"Distribution of doors\")\n",
    "axs[0][2].hist(new_data_good['doors'],bins=20)\n",
    "\n",
    "axs[1][0].set_title(\"Distribution of persons\")\n",
    "axs[1][0].hist(new_data_good['persons'],bins=20)\n",
    "\n",
    "axs[1][1].set_title(\"Distribution of luggage boot\")\n",
    "axs[1][1].hist(new_data_good['lug_boot'],bins=20)\n",
    "\n",
    "axs[1][2].set_title(\"Distribution of safety\")\n",
    "axs[1][2].hist(new_data_good['safety'],bins=20)\n",
    "\n",
    "fig.suptitle(\"Feature distributions good\", fontsize=16)\n",
    "plt.show()"
   ]
  },
  {
   "cell_type": "code",
   "execution_count": 221,
   "id": "1ddc311c",
   "metadata": {},
   "outputs": [],
   "source": [
    "#the car be good when buying med or low and maint low or med and persons 4 or more and safety high or med"
   ]
  },
  {
   "cell_type": "code",
   "execution_count": 245,
   "id": "74c0d6cb",
   "metadata": {},
   "outputs": [
    {
     "data": {
      "text/html": [
       "<div>\n",
       "<style scoped>\n",
       "    .dataframe tbody tr th:only-of-type {\n",
       "        vertical-align: middle;\n",
       "    }\n",
       "\n",
       "    .dataframe tbody tr th {\n",
       "        vertical-align: top;\n",
       "    }\n",
       "\n",
       "    .dataframe thead th {\n",
       "        text-align: right;\n",
       "    }\n",
       "</style>\n",
       "<table border=\"1\" class=\"dataframe\">\n",
       "  <thead>\n",
       "    <tr style=\"text-align: right;\">\n",
       "      <th></th>\n",
       "      <th>buying</th>\n",
       "      <th>maint</th>\n",
       "      <th>doors</th>\n",
       "      <th>persons</th>\n",
       "      <th>lug_boot</th>\n",
       "      <th>safety</th>\n",
       "      <th>class</th>\n",
       "    </tr>\n",
       "  </thead>\n",
       "  <tbody>\n",
       "    <tr>\n",
       "      <th>1096</th>\n",
       "      <td>med</td>\n",
       "      <td>med</td>\n",
       "      <td>2</td>\n",
       "      <td>4</td>\n",
       "      <td>big</td>\n",
       "      <td>high</td>\n",
       "      <td>vgood</td>\n",
       "    </tr>\n",
       "    <tr>\n",
       "      <th>1105</th>\n",
       "      <td>med</td>\n",
       "      <td>med</td>\n",
       "      <td>2</td>\n",
       "      <td>more</td>\n",
       "      <td>big</td>\n",
       "      <td>high</td>\n",
       "      <td>vgood</td>\n",
       "    </tr>\n",
       "    <tr>\n",
       "      <th>1123</th>\n",
       "      <td>med</td>\n",
       "      <td>med</td>\n",
       "      <td>3</td>\n",
       "      <td>4</td>\n",
       "      <td>big</td>\n",
       "      <td>high</td>\n",
       "      <td>vgood</td>\n",
       "    </tr>\n",
       "    <tr>\n",
       "      <th>1129</th>\n",
       "      <td>med</td>\n",
       "      <td>med</td>\n",
       "      <td>3</td>\n",
       "      <td>more</td>\n",
       "      <td>med</td>\n",
       "      <td>high</td>\n",
       "      <td>vgood</td>\n",
       "    </tr>\n",
       "    <tr>\n",
       "      <th>1132</th>\n",
       "      <td>med</td>\n",
       "      <td>med</td>\n",
       "      <td>3</td>\n",
       "      <td>more</td>\n",
       "      <td>big</td>\n",
       "      <td>high</td>\n",
       "      <td>vgood</td>\n",
       "    </tr>\n",
       "    <tr>\n",
       "      <th>...</th>\n",
       "      <td>...</td>\n",
       "      <td>...</td>\n",
       "      <td>...</td>\n",
       "      <td>...</td>\n",
       "      <td>...</td>\n",
       "      <td>...</td>\n",
       "      <td>...</td>\n",
       "    </tr>\n",
       "    <tr>\n",
       "      <th>1699</th>\n",
       "      <td>low</td>\n",
       "      <td>low</td>\n",
       "      <td>4</td>\n",
       "      <td>more</td>\n",
       "      <td>big</td>\n",
       "      <td>high</td>\n",
       "      <td>vgood</td>\n",
       "    </tr>\n",
       "    <tr>\n",
       "      <th>1714</th>\n",
       "      <td>low</td>\n",
       "      <td>low</td>\n",
       "      <td>5more</td>\n",
       "      <td>4</td>\n",
       "      <td>med</td>\n",
       "      <td>high</td>\n",
       "      <td>vgood</td>\n",
       "    </tr>\n",
       "    <tr>\n",
       "      <th>1717</th>\n",
       "      <td>low</td>\n",
       "      <td>low</td>\n",
       "      <td>5more</td>\n",
       "      <td>4</td>\n",
       "      <td>big</td>\n",
       "      <td>high</td>\n",
       "      <td>vgood</td>\n",
       "    </tr>\n",
       "    <tr>\n",
       "      <th>1723</th>\n",
       "      <td>low</td>\n",
       "      <td>low</td>\n",
       "      <td>5more</td>\n",
       "      <td>more</td>\n",
       "      <td>med</td>\n",
       "      <td>high</td>\n",
       "      <td>vgood</td>\n",
       "    </tr>\n",
       "    <tr>\n",
       "      <th>1726</th>\n",
       "      <td>low</td>\n",
       "      <td>low</td>\n",
       "      <td>5more</td>\n",
       "      <td>more</td>\n",
       "      <td>big</td>\n",
       "      <td>high</td>\n",
       "      <td>vgood</td>\n",
       "    </tr>\n",
       "  </tbody>\n",
       "</table>\n",
       "<p>65 rows × 7 columns</p>\n",
       "</div>"
      ],
      "text/plain": [
       "     buying maint  doors persons lug_boot safety  class\n",
       "1096    med   med      2       4      big   high  vgood\n",
       "1105    med   med      2    more      big   high  vgood\n",
       "1123    med   med      3       4      big   high  vgood\n",
       "1129    med   med      3    more      med   high  vgood\n",
       "1132    med   med      3    more      big   high  vgood\n",
       "...     ...   ...    ...     ...      ...    ...    ...\n",
       "1699    low   low      4    more      big   high  vgood\n",
       "1714    low   low  5more       4      med   high  vgood\n",
       "1717    low   low  5more       4      big   high  vgood\n",
       "1723    low   low  5more    more      med   high  vgood\n",
       "1726    low   low  5more    more      big   high  vgood\n",
       "\n",
       "[65 rows x 7 columns]"
      ]
     },
     "execution_count": 245,
     "metadata": {},
     "output_type": "execute_result"
    }
   ],
   "source": [
    "new_data_vgood = data.loc[(data['class'] == 'vgood')]\n",
    "new_data_vgood"
   ]
  },
  {
   "cell_type": "code",
   "execution_count": 249,
   "id": "b9db3566",
   "metadata": {},
   "outputs": [
    {
     "data": {
      "image/png": "[encoded data removed]",
      "text/plain": [
       "<Figure size 1080x504 with 6 Axes>"
      ]
     },
     "metadata": {
      "needs_background": "light"
     },
     "output_type": "display_data"
    }
   ],
   "source": [
    "fig,axs = plt.subplots(2,3,figsize=(15,7),tight_layout=True)\n",
    "axs[0][0].set_title(\"Distribution of buying\")\n",
    "axs[0][0].hist(new_data_vgood['buying'],bins=20)\n",
    "\n",
    "axs[0][1].set_title(\"Distribution of maint\")\n",
    "axs[0][1].hist(new_data_vgood['maint'],bins=20)\n",
    "\n",
    "axs[0][2].set_title(\"Distribution of doors\")\n",
    "axs[0][2].hist(new_data_vgood['doors'],bins=20)\n",
    "\n",
    "axs[1][0].set_title(\"Distribution of persons\")\n",
    "axs[1][0].hist(new_data_vgood['persons'],bins=20)\n",
    "\n",
    "axs[1][1].set_title(\"Distribution of luggage boot\")\n",
    "axs[1][1].hist(new_data_vgood['lug_boot'],bins=20)\n",
    "\n",
    "axs[1][2].set_title(\"Distribution of safety\")\n",
    "axs[1][2].hist(new_data_vgood['safety'],bins=20)\n",
    "\n",
    "fig.suptitle(\"Feature distributions very good\", fontsize=16)\n",
    "plt.show()"
   ]
  },
  {
   "cell_type": "code",
   "execution_count": null,
   "id": "b1f1073a",
   "metadata": {},
   "outputs": [],
   "source": [
    "#the car be very good when buying med or low and persons 4 or more and luggage boot big or med and safety high"
   ]
  },
  {
   "cell_type": "code",
   "execution_count": 236,
   "id": "0a28f6f5",
   "metadata": {},
   "outputs": [
    {
     "data": {
      "text/html": [
       "<div>\n",
       "<style scoped>\n",
       "    .dataframe tbody tr th:only-of-type {\n",
       "        vertical-align: middle;\n",
       "    }\n",
       "\n",
       "    .dataframe tbody tr th {\n",
       "        vertical-align: top;\n",
       "    }\n",
       "\n",
       "    .dataframe thead th {\n",
       "        text-align: right;\n",
       "    }\n",
       "</style>\n",
       "<table border=\"1\" class=\"dataframe\">\n",
       "  <thead>\n",
       "    <tr style=\"text-align: right;\">\n",
       "      <th></th>\n",
       "      <th>buying</th>\n",
       "      <th>maint</th>\n",
       "      <th>doors</th>\n",
       "      <th>persons</th>\n",
       "      <th>lug_boot</th>\n",
       "      <th>safety</th>\n",
       "      <th>class</th>\n",
       "    </tr>\n",
       "  </thead>\n",
       "  <tbody>\n",
       "    <tr>\n",
       "      <th>226</th>\n",
       "      <td>vhigh</td>\n",
       "      <td>med</td>\n",
       "      <td>2</td>\n",
       "      <td>4</td>\n",
       "      <td>small</td>\n",
       "      <td>high</td>\n",
       "      <td>acc</td>\n",
       "    </tr>\n",
       "    <tr>\n",
       "      <th>229</th>\n",
       "      <td>vhigh</td>\n",
       "      <td>med</td>\n",
       "      <td>2</td>\n",
       "      <td>4</td>\n",
       "      <td>med</td>\n",
       "      <td>high</td>\n",
       "      <td>acc</td>\n",
       "    </tr>\n",
       "    <tr>\n",
       "      <th>231</th>\n",
       "      <td>vhigh</td>\n",
       "      <td>med</td>\n",
       "      <td>2</td>\n",
       "      <td>4</td>\n",
       "      <td>big</td>\n",
       "      <td>med</td>\n",
       "      <td>acc</td>\n",
       "    </tr>\n",
       "    <tr>\n",
       "      <th>232</th>\n",
       "      <td>vhigh</td>\n",
       "      <td>med</td>\n",
       "      <td>2</td>\n",
       "      <td>4</td>\n",
       "      <td>big</td>\n",
       "      <td>high</td>\n",
       "      <td>acc</td>\n",
       "    </tr>\n",
       "    <tr>\n",
       "      <th>238</th>\n",
       "      <td>vhigh</td>\n",
       "      <td>med</td>\n",
       "      <td>2</td>\n",
       "      <td>more</td>\n",
       "      <td>med</td>\n",
       "      <td>high</td>\n",
       "      <td>acc</td>\n",
       "    </tr>\n",
       "    <tr>\n",
       "      <th>...</th>\n",
       "      <td>...</td>\n",
       "      <td>...</td>\n",
       "      <td>...</td>\n",
       "      <td>...</td>\n",
       "      <td>...</td>\n",
       "      <td>...</td>\n",
       "      <td>...</td>\n",
       "    </tr>\n",
       "    <tr>\n",
       "      <th>1665</th>\n",
       "      <td>low</td>\n",
       "      <td>low</td>\n",
       "      <td>3</td>\n",
       "      <td>more</td>\n",
       "      <td>small</td>\n",
       "      <td>med</td>\n",
       "      <td>acc</td>\n",
       "    </tr>\n",
       "    <tr>\n",
       "      <th>1683</th>\n",
       "      <td>low</td>\n",
       "      <td>low</td>\n",
       "      <td>4</td>\n",
       "      <td>4</td>\n",
       "      <td>small</td>\n",
       "      <td>med</td>\n",
       "      <td>acc</td>\n",
       "    </tr>\n",
       "    <tr>\n",
       "      <th>1692</th>\n",
       "      <td>low</td>\n",
       "      <td>low</td>\n",
       "      <td>4</td>\n",
       "      <td>more</td>\n",
       "      <td>small</td>\n",
       "      <td>med</td>\n",
       "      <td>acc</td>\n",
       "    </tr>\n",
       "    <tr>\n",
       "      <th>1710</th>\n",
       "      <td>low</td>\n",
       "      <td>low</td>\n",
       "      <td>5more</td>\n",
       "      <td>4</td>\n",
       "      <td>small</td>\n",
       "      <td>med</td>\n",
       "      <td>acc</td>\n",
       "    </tr>\n",
       "    <tr>\n",
       "      <th>1719</th>\n",
       "      <td>low</td>\n",
       "      <td>low</td>\n",
       "      <td>5more</td>\n",
       "      <td>more</td>\n",
       "      <td>small</td>\n",
       "      <td>med</td>\n",
       "      <td>acc</td>\n",
       "    </tr>\n",
       "  </tbody>\n",
       "</table>\n",
       "<p>384 rows × 7 columns</p>\n",
       "</div>"
      ],
      "text/plain": [
       "     buying maint  doors persons lug_boot safety class\n",
       "226   vhigh   med      2       4    small   high   acc\n",
       "229   vhigh   med      2       4      med   high   acc\n",
       "231   vhigh   med      2       4      big    med   acc\n",
       "232   vhigh   med      2       4      big   high   acc\n",
       "238   vhigh   med      2    more      med   high   acc\n",
       "...     ...   ...    ...     ...      ...    ...   ...\n",
       "1665    low   low      3    more    small    med   acc\n",
       "1683    low   low      4       4    small    med   acc\n",
       "1692    low   low      4    more    small    med   acc\n",
       "1710    low   low  5more       4    small    med   acc\n",
       "1719    low   low  5more    more    small    med   acc\n",
       "\n",
       "[384 rows x 7 columns]"
      ]
     },
     "execution_count": 236,
     "metadata": {},
     "output_type": "execute_result"
    }
   ],
   "source": [
    "new_data_acc = data.loc[(data['class'] == 'acc')]\n",
    "new_data_acc"
   ]
  },
  {
   "cell_type": "code",
   "execution_count": 250,
   "id": "8fb3f089",
   "metadata": {},
   "outputs": [
    {
     "data": {
      "image/png": "[encoded data removed]",
      "text/plain": [
       "<Figure size 1080x504 with 6 Axes>"
      ]
     },
     "metadata": {
      "needs_background": "light"
     },
     "output_type": "display_data"
    }
   ],
   "source": [
    "fig,axs = plt.subplots(2,3,figsize=(15,7),tight_layout=True)\n",
    "axs[0][0].set_title(\"Distribution of buying\")\n",
    "axs[0][0].hist(new_data_acc['buying'],bins=20)\n",
    "\n",
    "axs[0][1].set_title(\"Distribution of maint\")\n",
    "axs[0][1].hist(new_data_acc['maint'],bins=20)\n",
    "\n",
    "axs[0][2].set_title(\"Distribution of doors\")\n",
    "axs[0][2].hist(new_data_acc['doors'],bins=20)\n",
    "\n",
    "axs[1][0].set_title(\"Distribution of persons\")\n",
    "axs[1][0].hist(new_data_acc['persons'],bins=20)\n",
    "\n",
    "axs[1][1].set_title(\"Distribution of luggage boot\")\n",
    "axs[1][1].hist(new_data_acc['lug_boot'],bins=20)\n",
    "\n",
    "axs[1][2].set_title(\"Distribution of safety\")\n",
    "axs[1][2].hist(new_data_acc['safety'],bins=20)\n",
    "\n",
    "fig.suptitle(\"Feature distributions acceptable \", fontsize=16)\n",
    "plt.show()"
   ]
  },
  {
   "cell_type": "code",
   "execution_count": 238,
   "id": "c8d75b6c",
   "metadata": {},
   "outputs": [],
   "source": [
    "#the car be acceptable when persons 4 or more and safety high or med"
   ]
  },
  {
   "cell_type": "code",
   "execution_count": null,
   "id": "f92c7842",
   "metadata": {},
   "outputs": [],
   "source": []
  }
 ],
 "metadata": {
  "kernelspec": {
   "display_name": "Python 3 (ipykernel)",
   "language": "python",
   "name": "python3"
  },
  "language_info": {
   "codemirror_mode": {
    "name": "ipython",
    "version": 3
   },
   "file_extension": ".py",
   "mimetype": "text/x-python",
   "name": "python",
   "nbconvert_exporter": "python",
   "pygments_lexer": "ipython3",
   "version": "3.9.7"
  }
 },
 "nbformat": 4,
 "nbformat_minor": 5
}
